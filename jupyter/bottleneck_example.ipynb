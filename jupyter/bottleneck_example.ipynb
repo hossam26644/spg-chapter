{
 "cells": [
  {
   "cell_type": "code",
   "execution_count": 1,
   "metadata": {},
   "outputs": [],
   "source": [
    "%matplotlib inline\n",
    "import msprime\n",
    "import numpy as np\n",
    "import pandas as pd\n",
    "import seaborn as sns\n",
    "import matplotlib.pyplot as plt\n",
    "\n",
    "from IPython.display import SVG"
   ]
  },
  {
   "cell_type": "markdown",
   "metadata": {},
   "source": [
    "We want to approximate the SFS. We simulate 1000 replicates each consisting of a sample of size n=10 taken from a single panmictic population. We assume a history of an instaneous bottleneck at time T and explore a range of strength parameters:"
   ]
  },
  {
   "cell_type": "code",
   "execution_count": 56,
   "metadata": {
    "scrolled": true
   },
   "outputs": [],
   "source": [
    "Nrep = 1000\n",
    "nsamp = 10\n",
    "Ne = 1\n",
    "T = 0.5\n",
    "slist= np.array([0,0.5,1])\n",
    "\n",
    "B_cols = [np.zeros(Nrep*len(slist)) for _ in range(nsamp + 1)]\n",
    "s_col = np.zeros(Nrep*len(slist))\n",
    "row = 0\n",
    "for s in slist: \n",
    "    demographic_events = [msprime.InstantaneousBottleneck(time=T, strength=s)]\n",
    "    reps = msprime.simulate(sample_size=nsamp, Ne=Ne, num_replicates = Nrep, demographic_events = demographic_events)\n",
    "    for ts in reps:\n",
    "        s_col[row] = s\n",
    "        tree = next(ts.trees())\n",
    "        for u in tree.nodes():\n",
    "            nleaves = tree.num_samples(u)\n",
    "            if tree.parent(u) != msprime.NULL_NODE:\n",
    "                B_cols[nleaves][row]+=tree.branch_length(u)\n",
    "        row+=1\n",
    "\n",
    "cols = {\"B_{}\".format(j): B_cols[j] for j in range(1, nsamp)}\n",
    "cols[\"s\"] = s_col\n",
    "df = pd.DataFrame(cols)\n"
   ]
  },
  {
   "cell_type": "code",
   "execution_count": 54,
   "metadata": {},
   "outputs": [
    {
     "data": {
      "text/html": [
       "<div>\n",
       "<style scoped>\n",
       "    .dataframe tbody tr th:only-of-type {\n",
       "        vertical-align: middle;\n",
       "    }\n",
       "\n",
       "    .dataframe tbody tr th {\n",
       "        vertical-align: top;\n",
       "    }\n",
       "\n",
       "    .dataframe thead tr th {\n",
       "        text-align: left;\n",
       "    }\n",
       "\n",
       "    .dataframe thead tr:last-of-type th {\n",
       "        text-align: right;\n",
       "    }\n",
       "</style>\n",
       "<table border=\"1\" class=\"dataframe\">\n",
       "  <thead>\n",
       "    <tr>\n",
       "      <th></th>\n",
       "      <th colspan=\"8\" halign=\"left\">B_1</th>\n",
       "      <th colspan=\"2\" halign=\"left\">B_2</th>\n",
       "      <th>...</th>\n",
       "      <th colspan=\"2\" halign=\"left\">B_8</th>\n",
       "      <th colspan=\"8\" halign=\"left\">B_9</th>\n",
       "    </tr>\n",
       "    <tr>\n",
       "      <th></th>\n",
       "      <th>count</th>\n",
       "      <th>mean</th>\n",
       "      <th>std</th>\n",
       "      <th>min</th>\n",
       "      <th>25%</th>\n",
       "      <th>50%</th>\n",
       "      <th>75%</th>\n",
       "      <th>max</th>\n",
       "      <th>count</th>\n",
       "      <th>mean</th>\n",
       "      <th>...</th>\n",
       "      <th>75%</th>\n",
       "      <th>max</th>\n",
       "      <th>count</th>\n",
       "      <th>mean</th>\n",
       "      <th>std</th>\n",
       "      <th>min</th>\n",
       "      <th>25%</th>\n",
       "      <th>50%</th>\n",
       "      <th>75%</th>\n",
       "      <th>max</th>\n",
       "    </tr>\n",
       "    <tr>\n",
       "      <th>s</th>\n",
       "      <th></th>\n",
       "      <th></th>\n",
       "      <th></th>\n",
       "      <th></th>\n",
       "      <th></th>\n",
       "      <th></th>\n",
       "      <th></th>\n",
       "      <th></th>\n",
       "      <th></th>\n",
       "      <th></th>\n",
       "      <th></th>\n",
       "      <th></th>\n",
       "      <th></th>\n",
       "      <th></th>\n",
       "      <th></th>\n",
       "      <th></th>\n",
       "      <th></th>\n",
       "      <th></th>\n",
       "      <th></th>\n",
       "      <th></th>\n",
       "      <th></th>\n",
       "    </tr>\n",
       "  </thead>\n",
       "  <tbody>\n",
       "    <tr>\n",
       "      <th>0.0</th>\n",
       "      <td>1000.0</td>\n",
       "      <td>4.026332</td>\n",
       "      <td>2.135170</td>\n",
       "      <td>0.756314</td>\n",
       "      <td>2.560117</td>\n",
       "      <td>3.597605</td>\n",
       "      <td>4.978763</td>\n",
       "      <td>16.724997</td>\n",
       "      <td>1000.0</td>\n",
       "      <td>2.000771</td>\n",
       "      <td>...</td>\n",
       "      <td>0.092700</td>\n",
       "      <td>19.530033</td>\n",
       "      <td>1000.0</td>\n",
       "      <td>0.512795</td>\n",
       "      <td>1.414627</td>\n",
       "      <td>0.0</td>\n",
       "      <td>0.0</td>\n",
       "      <td>0.0</td>\n",
       "      <td>0.0</td>\n",
       "      <td>14.095174</td>\n",
       "    </tr>\n",
       "    <tr>\n",
       "      <th>0.5</th>\n",
       "      <td>1000.0</td>\n",
       "      <td>3.256582</td>\n",
       "      <td>1.768438</td>\n",
       "      <td>0.592182</td>\n",
       "      <td>2.145854</td>\n",
       "      <td>2.760605</td>\n",
       "      <td>3.769528</td>\n",
       "      <td>12.855263</td>\n",
       "      <td>1000.0</td>\n",
       "      <td>1.534837</td>\n",
       "      <td>...</td>\n",
       "      <td>0.078949</td>\n",
       "      <td>13.121612</td>\n",
       "      <td>1000.0</td>\n",
       "      <td>0.373948</td>\n",
       "      <td>1.112488</td>\n",
       "      <td>0.0</td>\n",
       "      <td>0.0</td>\n",
       "      <td>0.0</td>\n",
       "      <td>0.0</td>\n",
       "      <td>9.835679</td>\n",
       "    </tr>\n",
       "    <tr>\n",
       "      <th>1.0</th>\n",
       "      <td>1000.0</td>\n",
       "      <td>3.018020</td>\n",
       "      <td>1.596535</td>\n",
       "      <td>0.625093</td>\n",
       "      <td>2.047080</td>\n",
       "      <td>2.624720</td>\n",
       "      <td>3.418932</td>\n",
       "      <td>12.570398</td>\n",
       "      <td>1000.0</td>\n",
       "      <td>1.250237</td>\n",
       "      <td>...</td>\n",
       "      <td>0.000000</td>\n",
       "      <td>15.023811</td>\n",
       "      <td>1000.0</td>\n",
       "      <td>0.419618</td>\n",
       "      <td>1.171688</td>\n",
       "      <td>0.0</td>\n",
       "      <td>0.0</td>\n",
       "      <td>0.0</td>\n",
       "      <td>0.0</td>\n",
       "      <td>9.694629</td>\n",
       "    </tr>\n",
       "  </tbody>\n",
       "</table>\n",
       "<p>3 rows × 72 columns</p>\n",
       "</div>"
      ],
      "text/plain": [
       "        B_1                                                              \\\n",
       "      count      mean       std       min       25%       50%       75%   \n",
       "s                                                                         \n",
       "0.0  1000.0  4.026332  2.135170  0.756314  2.560117  3.597605  4.978763   \n",
       "0.5  1000.0  3.256582  1.768438  0.592182  2.145854  2.760605  3.769528   \n",
       "1.0  1000.0  3.018020  1.596535  0.625093  2.047080  2.624720  3.418932   \n",
       "\n",
       "                   B_2              ...           B_8                B_9  \\\n",
       "           max   count      mean    ...           75%        max   count   \n",
       "s                                   ...                                    \n",
       "0.0  16.724997  1000.0  2.000771    ...      0.092700  19.530033  1000.0   \n",
       "0.5  12.855263  1000.0  1.534837    ...      0.078949  13.121612  1000.0   \n",
       "1.0  12.570398  1000.0  1.250237    ...      0.000000  15.023811  1000.0   \n",
       "\n",
       "                                                        \n",
       "         mean       std  min  25%  50%  75%        max  \n",
       "s                                                       \n",
       "0.0  0.512795  1.414627  0.0  0.0  0.0  0.0  14.095174  \n",
       "0.5  0.373948  1.112488  0.0  0.0  0.0  0.0   9.835679  \n",
       "1.0  0.419618  1.171688  0.0  0.0  0.0  0.0   9.694629  \n",
       "\n",
       "[3 rows x 72 columns]"
      ]
     },
     "execution_count": 54,
     "metadata": {},
     "output_type": "execute_result"
    }
   ],
   "source": [
    "\n",
    "group = df.groupby(\"s\")\n",
    "group.describe()"
   ]
  },
  {
   "cell_type": "code",
   "execution_count": 44,
   "metadata": {},
   "outputs": [
    {
     "data": {
      "image/png": "[encoded data removed]",
      "text/plain": [
       "<matplotlib.figure.Figure at 0x7f62257c1c50>"
      ]
     },
     "metadata": {},
     "output_type": "display_data"
    }
   ],
   "source": [
    "sfs=np.mean(B,axis=0)\n",
    "sfs/=np.sum(sfs)\n",
    "\n",
    "expsfs=[(1/i) for i in range(1,10)]\n",
    "expsfs/=np.sum(expsfs)\n",
    "\n",
    "fig, ax = plt.subplots()\n",
    "index = np.arange(1,10)\n",
    "bar_width = 0.4\n",
    "opacity = 0.9\n",
    "\n",
    "simsfs = ax.bar(index, sfs[1:], bar_width, alpha=opacity, label='sim')\n",
    "expextsfs = ax.bar(index+ bar_width, expsfs, bar_width, alpha=opacity, label='exp')\n",
    "\n",
    "fig.tight_layout()\n",
    "plt.show()"
   ]
  },
  {
   "cell_type": "code",
   "execution_count": 70,
   "metadata": {},
   "outputs": [],
   "source": [
    "\n",
    "Nrep = 10000\n",
    "nsamp = 10\n",
    "Ne = 1\n",
    "T = 0.5\n",
    "slist= np.array([0,1,2,3])\n",
    "\n",
    "row = 0\n",
    "data = {}\n",
    "for s in slist: \n",
    "    demographic_events = [msprime.InstantaneousBottleneck(time=T, strength=s)]\n",
    "    reps = msprime.simulate(sample_size=nsamp, Ne=Ne, num_replicates = Nrep, demographic_events = demographic_events)\n",
    "    B = np.zeros((Nrep, nsamp))\n",
    "    for rep_index, ts in enumerate(reps):\n",
    "        tree = next(ts.trees())\n",
    "        for u in tree.nodes():\n",
    "            nleaves = tree.num_samples(u)\n",
    "            if tree.parent(u) != msprime.NULL_NODE:\n",
    "                B[rep_index, nleaves]+=tree.branch_length(u)    \n",
    "    data[s] = np.mean(B, axis=0)\n",
    "    data[s] /=np.sum(data[s])"
   ]
  },
  {
   "cell_type": "code",
   "execution_count": 72,
   "metadata": {},
   "outputs": [
    {
     "data": {
      "image/png": "[encoded data removed]",
      "text/plain": [
       "<matplotlib.figure.Figure at 0x7f62254027f0>"
      ]
     },
     "metadata": {},
     "output_type": "display_data"
    }
   ],
   "source": [
    "bar_width=0.2\n",
    "index = np.arange(1, nsamp)\n",
    "j = 0\n",
    "for s, B in data.items():\n",
    "    plt.bar(index + j * bar_width, B[1:], bar_width, label=str(s))\n",
    "    j += 1"
   ]
  },
  {
   "cell_type": "code",
   "execution_count": 27,
   "metadata": {},
   "outputs": [
    {
     "data": {
      "image/png": "[encoded data removed]",
      "text/plain": [
       "<matplotlib.figure.Figure at 0x7f6225a0d4a8>"
      ]
     },
     "metadata": {},
     "output_type": "display_data"
    }
   ],
   "source": []
  },
  {
   "cell_type": "code",
   "execution_count": null,
   "metadata": {},
   "outputs": [],
   "source": []
  },
  {
   "cell_type": "code",
   "execution_count": 24,
   "metadata": {},
   "outputs": [
    {
     "name": "stdout",
     "output_type": "stream",
     "text": [
      "[ 0.35348576  0.17674288  0.11782859  0.08837144  0.07069715  0.05891429\n",
      "  0.05049797  0.04418572  0.0392762 ]\n"
     ]
    }
   ],
   "source": []
  },
  {
   "cell_type": "code",
   "execution_count": null,
   "metadata": {},
   "outputs": [],
   "source": []
  }
 ],
 "metadata": {
  "kernelspec": {
   "display_name": "Python 3",
   "language": "python",
   "name": "python3"
  },
  "language_info": {
   "codemirror_mode": {
    "name": "ipython",
    "version": 3
   },
   "file_extension": ".py",
   "mimetype": "text/x-python",
   "name": "python",
   "nbconvert_exporter": "python",
   "pygments_lexer": "ipython3",
   "version": "3.6.2"
  }
 },
 "nbformat": 4,
 "nbformat_minor": 2
}
