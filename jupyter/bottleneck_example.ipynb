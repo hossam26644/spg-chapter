{
 "cells": [
  {
   "cell_type": "code",
   "execution_count": 2,
   "metadata": {},
   "outputs": [],
   "source": [
    "%matplotlib inline\n",
    "import msprime\n",
    "import numpy as np\n",
    "import pandas as pd\n",
    "import seaborn as sns\n",
    "import matplotlib.pyplot as plt\n",
    "\n",
    "from IPython.display import SVG"
   ]
  },
  {
   "cell_type": "markdown",
   "metadata": {},
   "source": [
    "### Approximating the site frequency spectrum for a bottleneck"
   ]
  },
  {
   "cell_type": "markdown",
   "metadata": {},
   "source": [
    "The site frequency spectrum (SFS) summarises variants by their frequency in a sample and is a fundamental summary of sequence variation that forms the basis of many modern inference approaches (e.g. sweepfinder, DFE-alpha, dadi). First, the SFS is a lossless summary of unlinked variants, so any summary of sequence variation that ignores linkage (e.g. pairwise measures of diversity and divergence, F_st, Tajima's D and D) are summaries of the SFS.\n",
    "\n",
    "The SFS is convenient analytically, because it only depends on the mean length and frequency of genealogical branches. For many demographic models of interest the means can be derived analytically either using coalescent theory (cite Huang, TPB) or diffusion equations (cite dadi). A number of composite likelihood approaches have been developed based on either analytic results for the SFS (cite dadi Excoffier, Jaada). However, analytic expectations for the SFS break down for large samples and/or complex demographic models. \n",
    "\n",
    "In the following section we show how the SFS can be approximated using coalescence simulations and compare such approximations to analytic results. We will assume a simple toy history of a single panmictic population that is affected by an instaneous bottleneck at time T with strenght s (cite Galtier et al). The effect of this bottleneck is to induce sudden burst of coalescence, which simultaneous multiple merges. We measure bottleneck strength as the probability that a pair of lineages coalesces during the bottleneck (we could could of course convert s into on (imaginary) time period that would give the same probability of coalescence s=1-e^-T).\n",
    "\n",
    "We assume a sample of size 10 and use msprime to simulate 10,000 replicate genealogies. For each genealogy the function bottSFS records the unfolded SFS as the mean length of branches with n leafnodes (normalized by the total length of the genealogy) by iterating through all nodes in the tree.sequence. Note that we are simulating genealogies only, i.e. we do not need to simulate mutations.\n",
    "\n",
    "We use a for loop to record the SFS for a range of bottleneck strengths parameters in a dictionary:"
   ]
  },
  {
   "cell_type": "code",
   "execution_count": 4,
   "metadata": {},
   "outputs": [],
   "source": [
    "def run_bott_sims(Nrep, nsamp, T, s):\n",
    "    demographic_events = [msprime.InstantaneousBottleneck(time=T, strength=s)]\n",
    "    reps = msprime.simulate(sample_size=nsamp, Ne=Ne, num_replicates = Nrep, demographic_events = demographic_events)\n",
    "    return reps\n",
    "\n",
    "def approx_SFS(reps):\n",
    "    B = np.zeros((Nrep, nsamp))\n",
    "    for rep_index, ts in enumerate(reps):\n",
    "        tree = next(ts.trees())\n",
    "        for u in tree.nodes():\n",
    "            nleaves = tree.num_samples(u)\n",
    "            if tree.parent(u) != msprime.NULL_NODE:\n",
    "                B[rep_index, nleaves]+=tree.branch_length(u)    \n",
    "    data = np.mean(B, axis=0)\n",
    "    data /=np.sum(data)\n",
    "    return data\n",
    "\n",
    "Nrep = 10000\n",
    "nsamp = 10\n",
    "Ne = 1\n",
    "T = 0.5\n",
    "slist= np.array([0,1,2,3])\n",
    "datalist = {}\n",
    "for s in slist:\n",
    "    datalist[s]= approx_SFS(run_bott_sims(Nrep, nsamp, T, s))\n",
    "    \n",
    "#Once s is fixed in msprime the list of strength parameters becomes:\n",
    "#slist= slist=[1-np.exp(-s) for s in range(3)]"
   ]
  },
  {
   "cell_type": "markdown",
   "metadata": {},
   "source": [
    "With increasing bottleneck strength the SFS becomes increasingly skewed (the leftmost blue bars show the SFS for a population of constant size). However, bottlenecks have a complex effect on the different frequency classes of the SFS: while the relative frequency of singletons increases, other frequency classes (e.g. doubletons) have a non-monotonic relationship with bottleneck strength:"
   ]
  },
  {
   "cell_type": "code",
   "execution_count": 5,
   "metadata": {
    "scrolled": true
   },
   "outputs": [
    {
     "data": {
      "image/png": "[encoded data removed]",
      "text/plain": [
       "<matplotlib.figure.Figure at 0x7feb53894048>"
      ]
     },
     "metadata": {},
     "output_type": "display_data"
    }
   ],
   "source": [
    "bar_width=0.2\n",
    "index = np.arange(1, nsamp)\n",
    "j = 0\n",
    "for s, B in datalist.items():\n",
    "    plt.bar(index + j * bar_width, B[1:], bar_width, label=str(s))\n",
    "    j += 1"
   ]
  },
  {
   "cell_type": "markdown",
   "metadata": {},
   "source": [
    "### Comparison with analytic predictions"
   ]
  },
  {
   "cell_type": "markdown",
   "metadata": {},
   "source": [
    "How does the approximate SFS compare to analytic expectations? For a population of constant size, the SFS is simply given by Watterson's correction factor, that is the total length branches with i leafnodes is given is 1/i. Reassuringly, in the limit of s=0 (no bottleneck), our SFS approximation based on simulated genealogies agrees with this prediction: "
   ]
  },
  {
   "cell_type": "code",
   "execution_count": 33,
   "metadata": {},
   "outputs": [
    {
     "data": {
      "image/png": "[encoded data removed]",
      "text/plain": [
       "<matplotlib.figure.Figure at 0x7f6783f674e0>"
      ]
     },
     "metadata": {},
     "output_type": "display_data"
    }
   ],
   "source": [
    "expsfs=[(1/i) for i in range(1,10)]\n",
    "expsfs/=np.sum(expsfs)\n",
    "\n",
    "fig, ax = plt.subplots()\n",
    "index = np.arange(1,10)\n",
    "bar_width = 0.4\n",
    "opacity = 0.9\n",
    "\n",
    "simsfs = ax.bar(index, datalist[0][1:], bar_width, alpha=opacity, label='sim')\n",
    "expextsfs = ax.bar(index+ bar_width, expsfs, bar_width, alpha=opacity, label='exp')\n",
    "\n",
    "fig.tight_layout()\n",
    "plt.show()"
   ]
  },
  {
   "cell_type": "markdown",
   "metadata": {},
   "source": [
    "The analytic prediction for the SFS under a bottleneck model is more complicated (Bunnefeld et al. 2015, Appendix). For a sample of n=4 lineages the SFS is:"
   ]
  },
  {
   "cell_type": "code",
   "execution_count": 45,
   "metadata": {},
   "outputs": [
    {
     "name": "stdout",
     "output_type": "stream",
     "text": [
      "0.632120558829\n",
      "[ 0.5644372   0.26717043  0.16839237]\n"
     ]
    }
   ],
   "source": [
    "#slist=[1-np.exp(-s) for s in range(4)]\n",
    "T=2\n",
    "s=1-np.exp(-1)\n",
    "print(s)\n",
    "\n",
    "p=s*(-6 + 15*s - 20 * np.power(s,2) + 15 * np.power(s,3) - 6 * np.power(s,4) + np.power(s,5))\n",
    "\n",
    "expsfsBottlN= [2/15*(np.exp(-6*T)*(15 *np.exp(6*T) - 9 *np.exp(5*T)*s - \n",
    "    5*np.exp(3*T)*s*(3 - 3*s + np.power(s,2)) + p)),\n",
    "    1/5*np.exp(-6*T)*(5*np.exp(6*T) - 6*np.exp(5*T)*s - p),\n",
    "    2/15*np.exp(-6*T)*(5*np.exp(6*T) - 9*np.exp(5*T)*s + 5*np.exp(3*T)*s*(3-3*s + np.power(s,2)) + p)]\n",
    "\n",
    "expsfsBottlN/=np.sum(expsfsBottlN)\n",
    "print(expsfsBottlN)"
   ]
  },
  {
   "cell_type": "code",
   "execution_count": null,
   "metadata": {},
   "outputs": [],
   "source": []
  },
  {
   "cell_type": "markdown",
   "metadata": {},
   "source": [
    "Again, we get a good fit between the SFS simulated with msprime and the analytic prediction:"
   ]
  },
  {
   "cell_type": "code",
   "execution_count": 39,
   "metadata": {
    "scrolled": true
   },
   "outputs": [],
   "source": [
    "nsamp = 4\n",
    "data4 = {}\n",
    "T = 1\n",
    "for s in slist:\n",
    "    data4[s]= bottSFS(Nrep, nsamp, T, s)"
   ]
  },
  {
   "cell_type": "code",
   "execution_count": 50,
   "metadata": {},
   "outputs": [
    {
     "name": "stdout",
     "output_type": "stream",
     "text": [
      "{0: array([ 0.        ,  0.54771678,  0.27042821,  0.18185501]), 1: array([ 0.        ,  0.5686587 ,  0.25701343,  0.17432786]), 2: array([ 0.        ,  0.61560682,  0.22875011,  0.15564306]), 3: array([ 0.        ,  0.65193721,  0.22435902,  0.12370377])}\n"
     ]
    },
    {
     "data": {
      "image/png": "[encoded data removed]",
      "text/plain": [
       "<matplotlib.figure.Figure at 0x7f6783cc38d0>"
      ]
     },
     "metadata": {},
     "output_type": "display_data"
    }
   ],
   "source": [
    "fig, ax = plt.subplots()\n",
    "index = np.arange(1,4)\n",
    "bar_width = 0.4\n",
    "print(data4)\n",
    "\n",
    "simsfs = ax.bar(index, data4[1][1:], bar_width, alpha=opacity, label='sim')\n",
    "expextsfs = ax.bar(index+ bar_width, expsfsBottlN, bar_width, label='exp')\n",
    "\n",
    "fig.tight_layout()\n",
    "plt.show()"
   ]
  },
  {
   "cell_type": "code",
   "execution_count": 17,
   "metadata": {},
   "outputs": [
    {
     "ename": "AttributeError",
     "evalue": "module 'msprime' has no attribute 'version'",
     "output_type": "error",
     "traceback": [
      "\u001b[0;31m---------------------------------------------------------------------------\u001b[0m",
      "\u001b[0;31mAttributeError\u001b[0m                            Traceback (most recent call last)",
      "\u001b[0;32m<ipython-input-17-f4d31b417f47>\u001b[0m in \u001b[0;36m<module>\u001b[0;34m()\u001b[0m\n\u001b[0;32m----> 1\u001b[0;31m \u001b[0mmsprime\u001b[0m\u001b[0;34m.\u001b[0m\u001b[0mversion\u001b[0m\u001b[0;34m(\u001b[0m\u001b[0;34m)\u001b[0m\u001b[0;34m\u001b[0m\u001b[0m\n\u001b[0m",
      "\u001b[0;31mAttributeError\u001b[0m: module 'msprime' has no attribute 'version'"
     ]
    }
   ],
   "source": [
    "msprime.version()"
   ]
  },
  {
   "cell_type": "markdown",
   "metadata": {},
   "source": [
    "## The distribution of nton branches"
   ]
  },
  {
   "cell_type": "markdown",
   "metadata": {},
   "source": [
    "Given that the SFS only depends on mean  branch lengths, it is interesting to inspect the probability density distribution of the underlying genealogical branches. Given the discrete event, the pfd of nton branches are discontinuous."
   ]
  },
  {
   "cell_type": "code",
   "execution_count": 32,
   "metadata": {},
   "outputs": [],
   "source": [
    "s=1\n",
    "demographic_events = [msprime.InstantaneousBottleneck(time=T, strength=s)]\n",
    "reps = msprime.simulate(sample_size=nsamp, Ne=Ne, num_replicates = Nrep, demographic_events = demographic_events)\n",
    "B = np.zeros((Nrep, nsamp))\n",
    "for rep_index, ts in enumerate(reps):\n",
    "    tree = next(ts.trees())\n",
    "    for u in tree.nodes():\n",
    "        nleaves = tree.num_samples(u)\n",
    "        if tree.parent(u) != msprime.NULL_NODE:\n",
    "            B[rep_index, nleaves]+=tree.branch_length(u)"
   ]
  },
  {
   "cell_type": "code",
   "execution_count": 36,
   "metadata": {},
   "outputs": [
    {
     "data": {
      "text/plain": [
       "<matplotlib.axes._subplots.AxesSubplot at 0x7f5654c6f240>"
      ]
     },
     "execution_count": 36,
     "metadata": {},
     "output_type": "execute_result"
    },
    {
     "data": {
      "image/png": "[encoded data removed]",
      "text/plain": [
       "<matplotlib.figure.Figure at 0x7f5654bc5860>"
      ]
     },
     "metadata": {},
     "output_type": "display_data"
    }
   ],
   "source": [
    "Btrans=np.array(B).T.tolist()\n",
    "sns.distplot(Btrans[1],axlabel=\"f(t)\")\n",
    "sns.distplot(Btrans[2],axlabel=\"f(t)\")\n",
    "sns.distplot(Btrans[3],axlabel=\"f(t)\")"
   ]
  },
  {
   "cell_type": "markdown",
   "metadata": {},
   "source": [
    "### To Do"
   ]
  },
  {
   "cell_type": "markdown",
   "metadata": {},
   "source": [
    "1) Fix the pdf plot above: \n",
    "    - Label axes on the pdf plot above: y-> f(t), x -> t\n",
    "    - Restrict X range to 15\n",
    "2) Fix the x axes on all the barplots so that these correspond to classes in the SFS"
   ]
  },
  {
   "cell_type": "code",
   "execution_count": 39,
   "metadata": {},
   "outputs": [
    {
     "data": {
      "text/plain": [
       "<module 'msprime' from '/home/konrad/.local/lib/python3.6/site-packages/msprime/__init__.py'>"
      ]
     },
     "execution_count": 39,
     "metadata": {},
     "output_type": "execute_result"
    }
   ],
   "source": [
    "msprime"
   ]
  },
  {
   "cell_type": "code",
   "execution_count": 40,
   "metadata": {},
   "outputs": [
    {
     "name": "stdout",
     "output_type": "stream",
     "text": [
      "0.5\n"
     ]
    }
   ],
   "source": [
    "print(T)"
   ]
  },
  {
   "cell_type": "code",
   "execution_count": null,
   "metadata": {},
   "outputs": [],
   "source": []
  }
 ],
 "metadata": {
  "kernelspec": {
   "display_name": "Python 3",
   "language": "python",
   "name": "python3"
  },
  "language_info": {
   "codemirror_mode": {
    "name": "ipython",
    "version": 3
   },
   "file_extension": ".py",
   "mimetype": "text/x-python",
   "name": "python",
   "nbconvert_exporter": "python",
   "pygments_lexer": "ipython3",
   "version": "3.6.2"
  }
 },
 "nbformat": 4,
 "nbformat_minor": 2
}
