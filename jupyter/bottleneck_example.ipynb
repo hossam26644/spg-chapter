{
 "cells": [
  {
   "cell_type": "code",
   "execution_count": 18,
   "metadata": {},
   "outputs": [],
   "source": [
    "%matplotlib inline\n",
    "import msprime\n",
    "import numpy as np\n",
    "import pandas as pd\n",
    "import seaborn as sns\n",
    "import matplotlib.pyplot as plt\n",
    "\n",
    "from IPython.display import SVG"
   ]
  },
  {
   "cell_type": "markdown",
   "metadata": {},
   "source": [
    "We want to approximate the SFS. We simulate 10000 replicates, each consisting of a sample of size n=10 taken from a single panmictic population. We assume a history of an instaneous bottleneck at time T and explore a range of strength parameters."
   ]
  },
  {
   "cell_type": "code",
   "execution_count": 87,
   "metadata": {},
   "outputs": [],
   "source": [
    "Nrep = 10000\n",
    "nsamp = 10\n",
    "Ne = 1\n",
    "T = 0.5\n",
    "slist= np.array([0,1,2,3])\n",
    "\n",
    "row = 0\n",
    "data = {}\n",
    "for s in slist: \n",
    "    demographic_events = [msprime.InstantaneousBottleneck(time=T, strength=s)]\n",
    "    reps = msprime.simulate(sample_size=nsamp, Ne=Ne, num_replicates = Nrep, demographic_events = demographic_events)\n",
    "    B = np.zeros((Nrep, nsamp))\n",
    "    for rep_index, ts in enumerate(reps):\n",
    "        tree = next(ts.trees())\n",
    "        for u in tree.nodes():\n",
    "            nleaves = tree.num_samples(u)\n",
    "            if tree.parent(u) != msprime.NULL_NODE:\n",
    "                B[rep_index, nleaves]+=tree.branch_length(u)    \n",
    "    data[s] = np.mean(B, axis=0)\n",
    "    data[s] /=np.sum(data[s])"
   ]
  },
  {
   "cell_type": "markdown",
   "metadata": {},
   "source": [
    "The site frequency spectrum (SFS) can be approximated by taking the average length of branches with n leafnodes across simulation replicates. With increasing bottleneck strength the SFS becomes increasingly skewed. However, the effect is complex; e.g. while the relative frequency of singleton branches increases, other frequency classes (e.g. doubleton) have a non-monotonic relationship with bottleneck strength:"
   ]
  },
  {
   "cell_type": "code",
   "execution_count": 89,
   "metadata": {
    "scrolled": true
   },
   "outputs": [
    {
     "data": {
      "image/png": "[encoded data removed]",
      "text/plain": [
       "<matplotlib.figure.Figure at 0x7f85c9f00ef0>"
      ]
     },
     "metadata": {},
     "output_type": "display_data"
    }
   ],
   "source": [
    "bar_width=0.2\n",
    "index = np.arange(1, nsamp)\n",
    "j = 0\n",
    "for s, B in data.items():\n",
    "    plt.bar(index + j * bar_width, B[1:], bar_width, label=str(s))\n",
    "    j += 1"
   ]
  },
  {
   "cell_type": "markdown",
   "metadata": {},
   "source": [
    "How does the approximate SFS compare to analytic expectation? For a population of constant size, the SFS is simply given by 1/i (Watterson's correction factor):"
   ]
  },
  {
   "cell_type": "code",
   "execution_count": 90,
   "metadata": {},
   "outputs": [
    {
     "data": {
      "image/png": "[encoded data removed]",
      "text/plain": [
       "<matplotlib.figure.Figure at 0x7f85c9c86b38>"
      ]
     },
     "metadata": {},
     "output_type": "display_data"
    }
   ],
   "source": [
    "expsfs=[(1/i) for i in range(1,10)]\n",
    "expsfs/=np.sum(expsfs)\n",
    "\n",
    "fig, ax = plt.subplots()\n",
    "index = np.arange(1,10)\n",
    "bar_width = 0.4\n",
    "opacity = 0.9\n",
    "\n",
    "simsfs = ax.bar(index, data[0][1:], bar_width, alpha=opacity, label='sim')\n",
    "expextsfs = ax.bar(index+ bar_width, expsfs, bar_width, alpha=opacity, label='exp')\n",
    "\n",
    "fig.tight_layout()\n",
    "plt.show()"
   ]
  },
  {
   "cell_type": "markdown",
   "metadata": {},
   "source": [
    "The analyic prediction under a bottleneck model is more cumbersome (Bunnefeld et al. 2015, see Appendix). For a sample of n=4 lineages the SFS is:"
   ]
  },
  {
   "cell_type": "code",
   "execution_count": 122,
   "metadata": {},
   "outputs": [
    {
     "name": "stdout",
     "output_type": "stream",
     "text": [
      "[ 0.5644372   0.26717043  0.16839237]\n"
     ]
    }
   ],
   "source": [
    "t=1\n",
    "T=2\n",
    "\n",
    "expsfsBottl=[\n",
    "    2/15*(15 + 9 *np.exp(-t - T) - np.exp(-6*T) - 5*np.exp(-3*T) - 9*np.exp(-T) + \n",
    "    np.exp(-6*(t + T)) + 5*np.exp(-3*(t + T))), \n",
    "    1/5*(5 + 6*np.exp(-t - T) + np.exp(-6*T) - 6*np.exp(-T) - np.exp(-6*(t + T))),\n",
    "    2/15*np.exp(-6*(t + T))*(1 - np.exp(6*t) - 5*np.exp(3*(t + T)) + \n",
    "    9*np.exp(5*(t + T)) + 5*np.exp(6*(t + T)) + 5*np.exp(6*t + 3*T) - \n",
    "    9*np.exp(6*t + 5*T))]\n",
    "\n",
    "expsfsBottl/=np.sum(expsfsBottl)\n",
    "print(expsfsBottl)"
   ]
  },
  {
   "cell_type": "code",
   "execution_count": 126,
   "metadata": {
    "scrolled": true
   },
   "outputs": [
    {
     "name": "stdout",
     "output_type": "stream",
     "text": [
      "[ 0.57208629  0.26705839  0.16085532]\n"
     ]
    }
   ],
   "source": [
    "Nrep = 10000\n",
    "nsamp = 4\n",
    "Ne = 1\n",
    "T = 2\n",
    "slist= [0,1]\n",
    "\n",
    "row = 0\n",
    "data4 = {}\n",
    "for s in slist: \n",
    "    demographic_events = [msprime.InstantaneousBottleneck(time=T, strength=s)]\n",
    "    reps = msprime.simulate(sample_size=nsamp, Ne=Ne, num_replicates = Nrep, demographic_events = demographic_events)\n",
    "    B = np.zeros((Nrep, nsamp))\n",
    "    for rep_index, ts in enumerate(reps):\n",
    "        tree = next(ts.trees())\n",
    "        for u in tree.nodes():\n",
    "            nleaves = tree.num_samples(u)\n",
    "            if tree.parent(u) != msprime.NULL_NODE:\n",
    "                B[rep_index, nleaves]+=tree.branch_length(u)    \n",
    "    data4[s] = np.mean(B, axis=0)\n",
    "    data4[s] /=np.sum(data4[s])\n",
    "print(data4[1][1:])"
   ]
  },
  {
   "cell_type": "code",
   "execution_count": 127,
   "metadata": {},
   "outputs": [
    {
     "data": {
      "image/png": "[encoded data removed]",
      "text/plain": [
       "<matplotlib.figure.Figure at 0x7f85c91492b0>"
      ]
     },
     "metadata": {},
     "output_type": "display_data"
    }
   ],
   "source": [
    "expsfsBottl/=np.sum(expsfsBottl)\n",
    "\n",
    "fig, ax = plt.subplots()\n",
    "index = np.arange(1,4)\n",
    "bar_width = 0.4\n",
    "opacity = 0.9\n",
    "\n",
    "simsfs = ax.bar(index, data4[1][1:], bar_width, alpha=opacity, label='sim')\n",
    "expextsfs = ax.bar(index+ bar_width, expsfsBottl, bar_width, alpha=opacity, label='exp')\n",
    "\n",
    "fig.tight_layout()\n",
    "plt.show()"
   ]
  }
 ],
 "metadata": {
  "kernelspec": {
   "display_name": "Python 3",
   "language": "python",
   "name": "python3"
  },
  "language_info": {
   "codemirror_mode": {
    "name": "ipython",
    "version": 3
   },
   "file_extension": ".py",
   "mimetype": "text/x-python",
   "name": "python",
   "nbconvert_exporter": "python",
   "pygments_lexer": "ipython3",
   "version": "3.6.2"
  }
 },
 "nbformat": 4,
 "nbformat_minor": 2
}
