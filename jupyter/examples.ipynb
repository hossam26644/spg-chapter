{
 "cells": [
  {
   "cell_type": "code",
   "execution_count": 8,
   "metadata": {},
   "outputs": [],
   "source": []
  },
  {
   "cell_type": "code",
   "execution_count": 9,
   "metadata": {},
   "outputs": [],
   "source": [
    "%matplotlib inline\n",
    "import msprime\n",
    "import numpy as np\n",
    "import seaborn as sns\n",
    "\n",
    "from IPython.display import SVG\n"
   ]
  },
  {
   "cell_type": "markdown",
   "metadata": {},
   "source": [
    "## Running simulations"
   ]
  },
  {
   "cell_type": "markdown",
   "metadata": {},
   "source": [
    "At the simplest level, coalescent simulation is about generating trees. These trees represent the simulated history of a sample of individuals drawn from an idealised population (in later sections we show how to vary the properites of this idealised population). The function ``msprime.simulate`` runs these simulations, and the parameters that we provide to this function determine the exact simulation that we run. It returns a ``TreeSequence`` object, which represents the full simulated history of the sample. In later sections we discuss the effects of recombination, when this ``TreeSequence`` contains a list of correlated trees. For now, we assume that there is no recombinations, and we use the method ``first()`` to obtain the tree object from this tree sequence. For example, here we simulate a history for a sample of three chromosomes:"
   ]
  },
  {
   "cell_type": "code",
   "execution_count": 33,
   "metadata": {},
   "outputs": [
    {
     "data": {
      "image/svg+xml": [
       "<svg baseProfile=\"full\" height=\"200\" version=\"1.1\" width=\"200\" xmlns=\"http://www.w3.org/2000/svg\" xmlns:ev=\"http://www.w3.org/2001/xml-events\" xmlns:xlink=\"http://www.w3.org/1999/xlink\"><defs/><g id=\"lines\" stroke=\"black\"><line x1=\"40.0\" x2=\"40.0\" y1=\"180.0\" y2=\"20.0\"/><line x1=\"40.0\" x2=\"70.0\" y1=\"20.0\" y2=\"20.0\"/><line x1=\"100.0\" x2=\"100.0\" y1=\"71.05946424174569\" y2=\"20.0\"/><line x1=\"100.0\" x2=\"70.0\" y1=\"20.0\" y2=\"20.0\"/><line x1=\"80.0\" x2=\"80.0\" y1=\"180.0\" y2=\"71.05946424174569\"/><line x1=\"80.0\" x2=\"100.0\" y1=\"71.05946424174569\" y2=\"71.05946424174569\"/><line x1=\"120.0\" x2=\"120.0\" y1=\"180.0\" y2=\"71.05946424174569\"/><line x1=\"120.0\" x2=\"100.0\" y1=\"71.05946424174569\" y2=\"71.05946424174569\"/></g><g font-size=\"14\" text-anchor=\"middle\"><text dx=\"0\" dy=\"-5\" x=\"70.0\" y=\"20.0\">4</text><text dx=\"0\" dy=\"20\" x=\"40.0\" y=\"180.0\">1</text><text dx=\"-10\" dy=\"-5\" x=\"100.0\" y=\"71.05946424174569\">3</text><text dx=\"0\" dy=\"20\" x=\"80.0\" y=\"180.0\">0</text><text dx=\"0\" dy=\"20\" x=\"120.0\" y=\"180.0\">2</text></g><circle cx=\"70.0\" cy=\"20.0\" r=\"3\"/><circle cx=\"40.0\" cy=\"180.0\" r=\"3\"/><circle cx=\"100.0\" cy=\"71.05946424174569\" r=\"3\"/><circle cx=\"80.0\" cy=\"180.0\" r=\"3\"/><circle cx=\"120.0\" cy=\"180.0\" r=\"3\"/></svg>"
      ],
      "text/plain": [
       "<IPython.core.display.SVG object>"
      ]
     },
     "execution_count": 33,
     "metadata": {},
     "output_type": "execute_result"
    }
   ],
   "source": [
    "ts = msprime.simulate(3)\n",
    "tree = ts.first()\n",
    "SVG(tree.draw())"
   ]
  },
  {
   "cell_type": "markdown",
   "metadata": {},
   "source": [
    "In this tree we have 5 nodes. Nodes 0, 1 and 2 are *leaves*, and represent our samples. Node 3 is an *internal* node, and is the parent of 0 and 1. Node 4 is also an internal node, and is the root of the tree. In mpsrime, we always refer to nodes by their integer IDs and obtain information about these nodes by calling methods on the tree object. For example the code ``tree.children(4)`` will return the tuple ``(2, 3)`` here, as these are the node IDs of the children of the root node. Similarly, ``tree.parent(0)`` will return ``3``.\n",
    "\n",
    "The height of nodes in a tree are determined by their *time*; this is how long ago the ancestor that corresponds the node was born. So, contemporary samples always have a node time of zero, and time values increase as we go upwards in the tree (and further back in time). Times in msprime are always measured in *generations*. \n",
    "\n",
    "When we run a single simulation, the resulting tree is a single random sample from the probability distribution of coalescent trees. Since a single random draw from any distribution is not usually informative, we nearly always need to run many different *replicate* simulations to obtain useful information. This simplest way to do this in msprime is to use the ``num_replicates`` argument."
   ]
  },
  {
   "cell_type": "code",
   "execution_count": 40,
   "metadata": {},
   "outputs": [
    {
     "data": {
      "text/plain": [
       "3.5490350726811175"
      ]
     },
     "execution_count": 40,
     "metadata": {},
     "output_type": "execute_result"
    }
   ],
   "source": [
    "N = 1000\n",
    "mean_T_mrca = 0\n",
    "for ts in msprime.simulate(10, num_replicates=N):\n",
    "    tree = ts.first()\n",
    "    mean_T_mrca += tree.time(tree.root)\n",
    "mean_T_mrca = mean_T_mrca / N\n",
    "mean_T_mrca"
   ]
  },
  {
   "cell_type": "markdown",
   "metadata": {},
   "source": [
    "In this example we run 1000 independent replicates of the coalescent for a sample of 10 chromosomes, and compute the mean time to the most recent common ancestor of the entire sample, or equivalently the root of the tree. (The value we obtain is a highly unrealistic 3.5 generations in the past; however, this is unsurprising since we have specified a highly unrealistic population model. See the next for more details on how to specify population models and interpret simulation times.) The ``simulate`` function behaves slightly differently when it is called with the ``num_replicates`` argument: rather than returning a single tree sequence we return an *iterator* over the individual replicates. What this essentially means is that we can use the convenient **for** loop construction to consider each simulation in turn, but without actually storing all these simulations. As a result, we can run millions of replicates using this method if needs be without using any extra storage.\n",
    "\n",
    "When simulating coalescent trees, we are often interested in more than just the mean of the distribution of some statistic. Rather than compute the various summaries by hand (as we have done for the mean in the last example), it is much more convenient to store the result for each replicate and analyse this array after the simulations have completed. For example:"
   ]
  },
  {
   "cell_type": "code",
   "execution_count": 36,
   "metadata": {},
   "outputs": [
    {
     "data": {
      "text/plain": [
       "(3.568437616871313, 4.251691923284481)"
      ]
     },
     "execution_count": 36,
     "metadata": {},
     "output_type": "execute_result"
    }
   ],
   "source": [
    "N = 1000\n",
    "T_mrca = np.zeros(N)\n",
    "for j, ts in enumerate(msprime.simulate(10, num_replicates=N)):\n",
    "    tree = ts.first()\n",
    "    T_mrca[j] = tree.time(tree.root)\n",
    "np.mean(T_mrca), np.var(T_mrca)"
   ]
  },
  {
   "cell_type": "markdown",
   "metadata": {},
   "source": [
    "Here we simulate 1000 replicates, storing the time to the most recent common ancestor for each replicate in the array ``T_mrca``. We use the Python ``enumerate`` function here to simplify the process of efficiently inserting values into this array, which simply ensures that ``j`` for the first replicate, ``1`` for the second, and so on. Thus, by the time we finish the loop, the array has been filled with T_mrca values randomly generated under the coalescent. We then use the ``numpy`` library (which has an extensive suite of statistical functions) to compute the mean and variance of this array. This example is idiomatic, and we will use this type of approach throughout the rest of this tutorial."
   ]
  },
  {
   "cell_type": "markdown",
   "metadata": {},
   "source": [
    "## Population models\n",
    "\n",
    "In the previous section the only parameters that we supplied to ``simulate`` were the ``sample_size`` and ``num_replicates`` parameters.\n",
    "\n",
    "**TODO**\n",
    "\n",
    "- Explain Ne\n",
    "- Explain expanding/contracting populations\n"
   ]
  }
 ],
 "metadata": {
  "kernelspec": {
   "display_name": "Python 3",
   "language": "python",
   "name": "python3"
  },
  "language_info": {
   "codemirror_mode": {
    "name": "ipython",
    "version": 3
   },
   "file_extension": ".py",
   "mimetype": "text/x-python",
   "name": "python",
   "nbconvert_exporter": "python",
   "pygments_lexer": "ipython3",
   "version": "3.5.2"
  }
 },
 "nbformat": 4,
 "nbformat_minor": 2
}
