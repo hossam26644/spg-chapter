{
 "cells": [
  {
   "cell_type": "code",
   "execution_count": 12,
   "metadata": {},
   "outputs": [],
   "source": [
    "%matplotlib inline"
   ]
  },
  {
   "cell_type": "code",
   "execution_count": 10,
   "metadata": {},
   "outputs": [],
   "source": [
    "import msprime\n",
    "import numpy as np\n",
    "import seaborn as sns\n",
    "\n",
    "from IPython.display import SVG\n"
   ]
  },
  {
   "cell_type": "markdown",
   "metadata": {},
   "source": [
    "## Basic examples"
   ]
  },
  {
   "cell_type": "code",
   "execution_count": 7,
   "metadata": {},
   "outputs": [
    {
     "data": {
      "image/svg+xml": [
       "<svg baseProfile=\"full\" height=\"200\" version=\"1.1\" width=\"200\" xmlns=\"http://www.w3.org/2000/svg\" xmlns:ev=\"http://www.w3.org/2001/xml-events\" xmlns:xlink=\"http://www.w3.org/1999/xlink\"><defs/><g id=\"lines\" stroke=\"black\"><line x1=\"40.0\" x2=\"40.0\" y1=\"180.0\" y2=\"19.99999999999997\"/><line x1=\"40.0\" x2=\"70.0\" y1=\"19.99999999999997\" y2=\"19.99999999999997\"/><line x1=\"100.0\" x2=\"100.0\" y1=\"140.0158721608527\" y2=\"19.99999999999997\"/><line x1=\"100.0\" x2=\"70.0\" y1=\"19.99999999999997\" y2=\"19.99999999999997\"/><line x1=\"80.0\" x2=\"80.0\" y1=\"180.0\" y2=\"140.0158721608527\"/><line x1=\"80.0\" x2=\"100.0\" y1=\"140.0158721608527\" y2=\"140.0158721608527\"/><line x1=\"120.0\" x2=\"120.0\" y1=\"180.0\" y2=\"140.0158721608527\"/><line x1=\"120.0\" x2=\"100.0\" y1=\"140.0158721608527\" y2=\"140.0158721608527\"/></g><g font-size=\"14\" text-anchor=\"middle\"><text dx=\"0\" dy=\"-5\" x=\"70.0\" y=\"19.99999999999997\">4</text><text dx=\"0\" dy=\"20\" x=\"40.0\" y=\"180.0\">0</text><text dx=\"-10\" dy=\"-5\" x=\"100.0\" y=\"140.0158721608527\">3</text><text dx=\"0\" dy=\"20\" x=\"80.0\" y=\"180.0\">1</text><text dx=\"0\" dy=\"20\" x=\"120.0\" y=\"180.0\">2</text></g><circle cx=\"70.0\" cy=\"19.99999999999997\" r=\"3\"/><circle cx=\"40.0\" cy=\"180.0\" r=\"3\"/><circle cx=\"100.0\" cy=\"140.0158721608527\" r=\"3\"/><circle cx=\"80.0\" cy=\"180.0\" r=\"3\"/><circle cx=\"120.0\" cy=\"180.0\" r=\"3\"/></svg>"
      ],
      "text/plain": [
       "<IPython.core.display.SVG object>"
      ]
     },
     "execution_count": 7,
     "metadata": {},
     "output_type": "execute_result"
    }
   ],
   "source": [
    "ts = msprime.simulate(3, Ne=0.5)\n",
    "tree = next(ts.trees())\n",
    "SVG(tree.draw())"
   ]
  },
  {
   "cell_type": "code",
   "execution_count": 17,
   "metadata": {},
   "outputs": [
    {
     "data": {
      "image/png": "[encoded data removed]",
      "text/plain": [
       "<matplotlib.figure.Figure at 0x7f85e6c30080>"
      ]
     },
     "metadata": {},
     "output_type": "display_data"
    }
   ],
   "source": [
    "N = 1000\n",
    "T_mrca = np.zeros(N)\n",
    "for j, ts in enumerate(msprime.simulate(10, Ne=0.5, num_replicates=N)):\n",
    "    tree = next(ts.trees())\n",
    "    T_mrca[j] = tree.time(tree.root)\n",
    "sns.distplot(T_mrca);    "
   ]
  }
 ],
 "metadata": {
  "kernelspec": {
   "display_name": "Python 3",
   "language": "python",
   "name": "python3"
  },
  "language_info": {
   "codemirror_mode": {
    "name": "ipython",
    "version": 3
   },
   "file_extension": ".py",
   "mimetype": "text/x-python",
   "name": "python",
   "nbconvert_exporter": "python",
   "pygments_lexer": "ipython3",
   "version": "3.5.2"
  }
 },
 "nbformat": 4,
 "nbformat_minor": 2
}
