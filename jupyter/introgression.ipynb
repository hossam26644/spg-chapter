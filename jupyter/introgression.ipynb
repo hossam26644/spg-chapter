{
 "cells": [
  {
   "cell_type": "code",
   "execution_count": 2,
   "metadata": {},
   "outputs": [],
   "source": [
    "%matplotlib inline\n",
    "%config InlineBackend.figure_format = 'svg'\n",
    "import random\n",
    "import collections\n",
    "import msprime\n",
    "import numpy as np\n",
    "import seaborn as sns\n",
    "import multiprocessing\n",
    "import matplotlib.pyplot as plt\n",
    "\n",
    "from IPython.display import SVG"
   ]
  },
  {
   "cell_type": "markdown",
   "metadata": {},
   "source": [
    "# Introgression \n",
    "\n",
    "There has been great interest in understanding the contributions past populations have made to the genetic diversity of current populations via admixture. In particular, the availability of whole genome sequence data from archaic hominins (Green et al 2010) has allowed geneticists to identify admixture tracks (Sankararaman 2016). In the simplest case, admixture tracts can be defined heuristically as regions of the genome that show excessive similarity between a putative source and a recipient population (usually quantified relative to some non-admixted reference population, ref Durand et al 2010). Because recombination breaks down admixture tracts, their length distribution gives a clock for calibrating admixture and this information been used to date the admixure contributions Neanderthals and other archaic hominins have made to non-African humans (Sankararaman 2016) and to recontruct the admixture history between different modern human populations (ref).\n",
    "\n",
    "Crucially, the power to identify admixture depends on the relative time bewteen the admixture event and the earlier divergence between source and the recipient population: the shorter this interval, the harder it becomes to detect admixture. This is because ancestral material is increasingly likely to trace its ancestry back to the common ancestral population regardless of whether it has been involved in any recent admixture or not. In other words, it becomes increasingly difficult to distinguish between admixtjure from Incomplete lineage sorting (ILS).\n",
    "\n",
    "In the following section we use msprime simulations to ask what fraction of admixture tracts are identifyable as such. \n",
    "\n",
    "To illustrate this, we simulate ancestral recombination graphs (ARGs) under a simple toy history of divergence and admixture which is loosely motivated by the demographic history of modern humans and Neandertals. As in previous sections, we will first examine properties of the ARG directly rather than use it to simulate mutations. We assume a minimal sample of a single (haploid) genome from a modern human population in African and Eurasia as well as an ancient Neandertal sample.\n",
    "\n",
    "Considering a rooted ARG, we want to distinguish three categories of segments: i) tracts actually involved in Neandertal admixture, ii) the subset of those tracts that coalesces in the Neandertal population and iii) segments at which Eurasians are more closely related to Neandertals than either are to Africans. This latter category must include all of ii) but also an additional set of short tracts that are due to incomplete lineage sorting (ILS). The last category is interesting because it is the only one that can be unambiguously detected in data (via derived mutations that are shared by Neandertals and Eurasians)."
   ]
  },
  {
   "cell_type": "markdown",
   "metadata": {},
   "source": [
    "First we set up a highly simplified demographic history of human neandertal demography and simulate a single chromosome of 100Mb length:"
   ]
  },
  {
   "cell_type": "code",
   "execution_count": 3,
   "metadata": {},
   "outputs": [
    {
     "ename": "TypeError",
     "evalue": "__init__() got an unexpected keyword argument 'dest'",
     "output_type": "error",
     "traceback": [
      "\u001b[0;31m---------------------------------------------------------------------------\u001b[0m",
      "\u001b[0;31mTypeError\u001b[0m                                 Traceback (most recent call last)",
      "\u001b[0;32m<ipython-input-3-ca58b6d928a8>\u001b[0m in \u001b[0;36m<module>\u001b[0;34m()\u001b[0m\n\u001b[1;32m     38\u001b[0m     \u001b[0;32mreturn\u001b[0m \u001b[0mts\u001b[0m\u001b[0;34m\u001b[0m\u001b[0m\n\u001b[1;32m     39\u001b[0m \u001b[0;34m\u001b[0m\u001b[0m\n\u001b[0;32m---> 40\u001b[0;31m \u001b[0mts\u001b[0m \u001b[0;34m=\u001b[0m \u001b[0mrun_simulation\u001b[0m\u001b[0;34m(\u001b[0m\u001b[0;36m1\u001b[0m\u001b[0;34m)\u001b[0m\u001b[0;34m\u001b[0m\u001b[0m\n\u001b[0m",
      "\u001b[0;32m<ipython-input-3-ca58b6d928a8>\u001b[0m in \u001b[0;36mrun_simulation\u001b[0;34m(random_seed)\u001b[0m\n\u001b[1;32m     23\u001b[0m                 \u001b[0;31m# 2% introgression 50 kya\u001b[0m\u001b[0;34m\u001b[0m\u001b[0;34m\u001b[0m\u001b[0m\n\u001b[1;32m     24\u001b[0m                 \u001b[0mtime\u001b[0m\u001b[0;34m=\u001b[0m\u001b[0;36m50\u001b[0m \u001b[0;34m*\u001b[0m \u001b[0mtime_units\u001b[0m\u001b[0;34m,\u001b[0m\u001b[0;34m\u001b[0m\u001b[0m\n\u001b[0;32m---> 25\u001b[0;31m                 source=EUR, dest=NEA, proportion=0.02),\n\u001b[0m\u001b[1;32m     26\u001b[0m             msprime.MassMigration(\n\u001b[1;32m     27\u001b[0m                 \u001b[0;31m# Eurasian & Africa populations merge 70 kya\u001b[0m\u001b[0;34m\u001b[0m\u001b[0;34m\u001b[0m\u001b[0m\n",
      "\u001b[0;31mTypeError\u001b[0m: __init__() got an unexpected keyword argument 'dest'"
     ]
    }
   ],
   "source": [
    "# Population IDs: Africa, Eurasia, Neanderthal\n",
    "AFR, EUR, NEA = 0, 1, 2\n",
    "    \n",
    "def run_simulation(random_seed=None):   \n",
    "    time_units = 1000 / 25  # Conversion factor for kya to generations\n",
    "    ts = msprime.simulate(\n",
    "        Ne=10**4,  # The same for all populations; highly unrealistic!\n",
    "        recombination_rate=1e-8,\n",
    "        length=100*10**6,  # 100 Mb\n",
    "        samples=[\n",
    "            msprime.Sample(time=0, population=AFR),\n",
    "            msprime.Sample(time=0, population=EUR),\n",
    "            # Neanderthal sample taken 30 kya\n",
    "            msprime.Sample(time=30 * time_units, population=NEA),\n",
    "        ],\n",
    "        population_configurations = [\n",
    "            msprime.PopulationConfiguration(), # Africa\n",
    "            msprime.PopulationConfiguration(), # Eurasia\n",
    "            msprime.PopulationConfiguration(), # Neanderthal\n",
    "        ],\n",
    "        demographic_events = [\n",
    "            msprime.MassMigration(\n",
    "                # 2% introgression 50 kya\n",
    "                time=50 * time_units,\n",
    "                source=EUR, dest=NEA, proportion=0.02),\n",
    "            msprime.MassMigration(\n",
    "                # Eurasian & Africa populations merge 70 kya\n",
    "                time=70 * time_units, \n",
    "                source=EUR, dest=AFR, proportion=1),\n",
    "            msprime.MassMigration(\n",
    "                # Neanderthal and African populations merge 300 kya\n",
    "                time=300 * time_units,\n",
    "                source=NEA, destination=AFR, proportion=1),\n",
    "        ],\n",
    "        record_migrations=True,  # Needed for tracking segments.\n",
    "        random_seed=random_seed,\n",
    "    )\n",
    "    return ts\n",
    "\n",
    "ts = run_simulation(1)"
   ]
  },
  {
   "cell_type": "markdown",
   "metadata": {},
   "source": [
    "Here we run our simulation in the usual way, but including the ``record_migrations`` option. This allows us to track segments of ancestral material that migrate from the European population into the Neanderthal population (backwards in time). We can then examine the length distributions of these segments and compare them with the length of the segments that also go on to coalesce within the Neanderthal population."
   ]
  },
  {
   "cell_type": "code",
   "execution_count": 57,
   "metadata": {},
   "outputs": [],
   "source": [
    "def get_migrating_tracts(ts):\n",
    "    migrating_tracts = []\n",
    "    # Get all tracts that migrated into the neanderthal population\n",
    "    for migration in ts.migrations():\n",
    "        if migration.dest == NEA:\n",
    "            migrating_tracts.append((migration.left, migration.right))\n",
    "    return np.array(migrating_tracts) \n",
    "\n",
    "def get_coalescing_tracts(ts):\n",
    "    coalescing_tracts = []\n",
    "    tract_left = None\n",
    "    for tree in ts.trees():    \n",
    "        # 1 is the Eurasian sample and 2 is the Neanderthal\n",
    "        mrca_pop = tree.population(tree.mrca(1, 2))\n",
    "        left = tree.interval[0]\n",
    "        if mrca_pop == NEA and tract_left is None:\n",
    "            # Start a new tract\n",
    "            tract_left = left      \n",
    "        elif mrca_pop != NEA and tract_left is not None:\n",
    "            # End the last tract\n",
    "            coalescing_tracts.append((tract_left, left))\n",
    "            tract_left = None\n",
    "    if tract_left is not None:\n",
    "        coalescing_tracts.append((tract_left, ts.sequence_length))\n",
    "    return np.array(coalescing_tracts)\n",
    "\n",
    "def get_eur_nea_tracts(ts):\n",
    "    tracts = []\n",
    "    tract_left = None\n",
    "    for tree in ts.trees():    \n",
    "        # 1 is the Eurasian sample and 2 is the Neanderthal\n",
    "        mrca = tree.mrca(1, 2)\n",
    "        left = tree.interval[0]\n",
    "        if mrca != tree.root and tract_left is None:\n",
    "            # Start a new tract\n",
    "            tract_left = left      \n",
    "        elif mrca != tree.root and tract_left is not None:\n",
    "            # End the last tract\n",
    "            tracts.append((tract_left, left))\n",
    "            tract_left = None\n",
    "    if tract_left is not None:\n",
    "        tracts.append((tract_left, ts.sequence_length))\n",
    "    return np.array(tracts)\n",
    "\n",
    "                                    \n",
    "migrating = get_migrating_tracts(ts)\n",
    "within_nea = get_coalescing_tracts(ts)\n",
    "eur_nea = get_eur_nea_tracts(ts)"
   ]
  },
  {
   "cell_type": "code",
   "execution_count": 54,
   "metadata": {},
   "outputs": [
    {
     "data": {
      "text/plain": [
       "((11, 2), (6799, 2), (34, 2))"
      ]
     },
     "execution_count": 54,
     "metadata": {},
     "output_type": "execute_result"
    }
   ],
   "source": [
    "migrating.shape, eur_nea.shape, within_nea.shape"
   ]
  },
  {
   "cell_type": "code",
   "execution_count": 1,
   "metadata": {},
   "outputs": [
    {
     "ename": "NameError",
     "evalue": "name 'plt' is not defined",
     "output_type": "error",
     "traceback": [
      "\u001b[0;31m---------------------------------------------------------------------------\u001b[0m",
      "\u001b[0;31mNameError\u001b[0m                                 Traceback (most recent call last)",
      "\u001b[0;32m<ipython-input-1-46122044c066>\u001b[0m in \u001b[0;36m<module>\u001b[0;34m()\u001b[0m\n\u001b[1;32m      4\u001b[0m \u001b[0;31m#sns.distplot(get_coalescing_tracts(ts1) * kb)\u001b[0m\u001b[0;34m\u001b[0m\u001b[0;34m\u001b[0m\u001b[0m\n\u001b[1;32m      5\u001b[0m \u001b[0;31m#sns.distplot(get_coalescing_tracts(ts2) * kb)\u001b[0m\u001b[0;34m\u001b[0m\u001b[0;34m\u001b[0m\u001b[0m\n\u001b[0;32m----> 6\u001b[0;31m plt.hist([\n\u001b[0m\u001b[1;32m      7\u001b[0m     \u001b[0;34m(\u001b[0m\u001b[0mmigrating\u001b[0m\u001b[0;34m[\u001b[0m\u001b[0;34m:\u001b[0m\u001b[0;34m,\u001b[0m\u001b[0;36m1\u001b[0m\u001b[0;34m]\u001b[0m \u001b[0;34m-\u001b[0m \u001b[0mmigrating\u001b[0m\u001b[0;34m[\u001b[0m\u001b[0;34m:\u001b[0m\u001b[0;34m,\u001b[0m\u001b[0;36m0\u001b[0m\u001b[0;34m]\u001b[0m\u001b[0;34m)\u001b[0m \u001b[0;34m*\u001b[0m \u001b[0mkb\u001b[0m\u001b[0;34m,\u001b[0m\u001b[0;34m\u001b[0m\u001b[0m\n\u001b[1;32m      8\u001b[0m     \u001b[0;34m(\u001b[0m\u001b[0meur_nea\u001b[0m\u001b[0;34m[\u001b[0m\u001b[0;34m:\u001b[0m\u001b[0;34m,\u001b[0m\u001b[0;36m1\u001b[0m\u001b[0;34m]\u001b[0m \u001b[0;34m-\u001b[0m \u001b[0meur_nea\u001b[0m\u001b[0;34m[\u001b[0m\u001b[0;34m:\u001b[0m\u001b[0;34m,\u001b[0m\u001b[0;36m0\u001b[0m\u001b[0;34m]\u001b[0m\u001b[0;34m)\u001b[0m \u001b[0;34m*\u001b[0m \u001b[0mkb\u001b[0m\u001b[0;34m,\u001b[0m\u001b[0;34m\u001b[0m\u001b[0m\n",
      "\u001b[0;31mNameError\u001b[0m: name 'plt' is not defined"
     ]
    }
   ],
   "source": [
    "kb = 1 / 1000\n",
    "#sns.distplot(get_migrating_tracts(ts1) * kb)\n",
    "#sns.distplot(get_migrating_tracts(ts2) * kb)\n",
    "#sns.distplot(get_coalescing_tracts(ts1) * kb)\n",
    "#sns.distplot(get_coalescing_tracts(ts2) * kb)\n",
    "plt.hist([\n",
    "    (migrating[:,1] - migrating[:,0]) * kb,   \n",
    "    (eur_nea[:,1] - eur_nea[:,0]) * kb,\n",
    "    (within_nea[:,1] - within_nea[:,0]) * kb,],\n",
    "    #get_coalescing_tracts(ts2) * kb],\n",
    "    #label = [\"migrating1\", \"migrating2\", \"coal1\", \"coal2\"]\n",
    "    label=[\"migrating\", \"EUR-NEA\", \"Within NEA\"]\n",
    ")\n",
    "    #migrating_tracts, coalescing_tracts], label=[\"Migrating\", \"Coalescing\"])\n",
    "plt.legend()\n",
    "plt.ylim(0, 200)\n",
    "plt.xlabel(\"Tract length (KB)\");"
   ]
  },
  {
   "cell_type": "markdown",
   "metadata": {},
   "source": [
    "We build these tract length distributions by using the ``migrations`` and ``edges`` iterators. We first scan all the migration records (which consist of the left and right coordinates of the migrating ancestral segment; the source and destination demes; the migrating tree node; and the time of the migration event) to find those in which the destination was the Neanderthal population. Given our simple demographic model above, this can only as as result of the introgression event, giving us a simple way to find the segments that actually introgressed.  We find the tract lengths of the coalescing segments by iterating over the trees and looking at where the MRCA of the European and the Neanderthal samples was born. \n",
    "\n",
    "Plotting these tract lengths for a single replicate shows that, as expected, admixture tracts are large initially (blue). We can also see that there is extensive ILS which has two effects: First, only a subset  of the admixted material has ancestry in the Neandertal population ( \\textbf{we expect a proportion $1-e^{-(T_{split}-T_{ad})}$, it would to check whether this fits the total lengths}). Second there many more tracts at which Neandertals and non-African humans are more closely related to each other due to incomplete lineage sorting (ILS) than there are admixture tracts. Finally ILS tracts because they are old by definition  are substantially shorter than admixture tracts."
   ]
  },
  {
   "cell_type": "markdown",
   "metadata": {},
   "source": [
    "## Locating mutations\n",
    "\n",
    "We are interested in finding the population in which mutations arose. Because mutations are just associated with a specific tree node in msprime, we must simulate some extra information in order to make this question answerable. This is quite straightforward to do, since we can generate a time for each mutation uniformly along a branch and therefore unambiguously locate it time (and, therefore, space)."
   ]
  },
  {
   "cell_type": "code",
   "execution_count": 107,
   "metadata": {},
   "outputs": [],
   "source": [
    "def simulate_mutation_times(ts, random_seed=None):\n",
    "    rng = random.Random(random_seed)\n",
    "    mutation_time = np.zeros(ts.num_mutations)\n",
    "    for tree in ts.trees():\n",
    "        for mutation in tree.mutations():\n",
    "            a = tree.time(mutation.node)\n",
    "            b = tree.time(tree.parent(mutation.node))\n",
    "            mutation_time[mutation.id] = rng.uniform(a, b)\n",
    "    return mutation_time\n",
    "\n",
    "pop_configs = [\n",
    "    msprime.PopulationConfiguration(sample_size=3),\n",
    "    msprime.PopulationConfiguration(sample_size=1),\n",
    "    msprime.PopulationConfiguration(sample_size=1)]\n",
    "M = [\n",
    "    [0, 1, 1],\n",
    "    [1, 0, 1],\n",
    "    [1, 1, 0]]\n",
    "ts  = msprime.simulate(\n",
    "    population_configurations=pop_configs, migration_matrix=M,\n",
    "    record_migrations=True, mutation_rate=0.5, random_seed=25)\n",
    "mutation_time = simulate_mutation_times(ts, random_seed=25)\n"
   ]
  },
  {
   "cell_type": "markdown",
   "metadata": {},
   "source": [
    "Once we have run our simulation and assigned times to each mutation, we can then assign populations to each of these mutations. The following function takes a simple approach, but first gathering the migrations for each node into a list. Then, for every mutation, we sequentially examine each migration that affects the mutation's node and intersects with the site position. Because we know that the migration records are sorted in increasing time order, we can simply apply the effects of each migration while the migration record's time is less than the time of the mutation. At the end of this process, we then return the computed mapping of mutation IDs to the populations in which they arose."
   ]
  },
  {
   "cell_type": "code",
   "execution_count": 111,
   "metadata": {},
   "outputs": [],
   "source": [
    "def get_mutation_population(ts, mutation_time):\n",
    "    node_migrations = collections.defaultdict(list)\n",
    "    for migration in ts.migrations():\n",
    "        node_migrations[migration.node].append(migration)\n",
    "    mutation_population = np.zeros(ts.num_mutations, dtype=int)\n",
    "    for tree in ts.trees():\n",
    "        for site in tree.sites():\n",
    "            for mutation in site.mutations:                \n",
    "                mutation_population[mutation.id] = tree.population(mutation.node)\n",
    "                for mig in node_migrations[mutation.node]:\n",
    "                    # Stepping through all migations will be inefficient for large \n",
    "                    # simulations. Should use an interval tree (e.g. \n",
    "                    # https://pypi.python.org/pypi/intervaltree) to find all \n",
    "                    # intervals intersecting with site.position.\n",
    "                    if mig.left <= site.position < mig.right:\n",
    "                        # Note that we assume that we see the migration records in \n",
    "                        # increasing order of time!\n",
    "                        if mig.time < mutation_time[mutation.id]:\n",
    "                            assert mutation_population[mutation.id] == mig.source\n",
    "                            mutation_population[mutation.id] = mig.dest\n",
    "    return mutation_population\n",
    "\n",
    "mutation_population = get_mutation_population(ts, mutation_time)"
   ]
  },
  {
   "cell_type": "code",
   "execution_count": 110,
   "metadata": {},
   "outputs": [
    {
     "data": {
      "image/svg+xml": [
       "<svg baseProfile=\"full\" height=\"200\" version=\"1.1\" width=\"200\" xmlns=\"http://www.w3.org/2000/svg\" xmlns:ev=\"http://www.w3.org/2001/xml-events\" xmlns:xlink=\"http://www.w3.org/1999/xlink\"><defs/><g id=\"lines\" stroke=\"black\"><line x1=\"50.0\" x2=\"50.0\" y1=\"99.05016275205732\" y2=\"20.0\"/><line x1=\"50.0\" x2=\"89.28571428571429\" y1=\"20.0\" y2=\"20.0\"/><line x1=\"28.571428571428573\" x2=\"28.571428571428573\" y1=\"180.0\" y2=\"99.05016275205732\"/><line x1=\"28.571428571428573\" x2=\"50.0\" y1=\"99.05016275205732\" y2=\"99.05016275205732\"/><line x1=\"71.42857142857143\" x2=\"71.42857142857143\" y1=\"175.33741910592107\" y2=\"99.05016275205732\"/><line x1=\"71.42857142857143\" x2=\"50.0\" y1=\"99.05016275205732\" y2=\"99.05016275205732\"/><line x1=\"57.142857142857146\" x2=\"57.142857142857146\" y1=\"180.0\" y2=\"175.33741910592107\"/><line x1=\"57.142857142857146\" x2=\"71.42857142857143\" y1=\"175.33741910592107\" y2=\"175.33741910592107\"/><line x1=\"85.71428571428572\" x2=\"85.71428571428572\" y1=\"180.0\" y2=\"175.33741910592107\"/><line x1=\"85.71428571428572\" x2=\"71.42857142857143\" y1=\"175.33741910592107\" y2=\"175.33741910592107\"/><line x1=\"128.57142857142858\" x2=\"128.57142857142858\" y1=\"95.32802891583364\" y2=\"20.0\"/><line x1=\"128.57142857142858\" x2=\"89.28571428571429\" y1=\"20.0\" y2=\"20.0\"/><line x1=\"114.28571428571429\" x2=\"114.28571428571429\" y1=\"180.0\" y2=\"95.32802891583364\"/><line x1=\"114.28571428571429\" x2=\"128.57142857142858\" y1=\"95.32802891583364\" y2=\"95.32802891583364\"/><line x1=\"142.85714285714286\" x2=\"142.85714285714286\" y1=\"180.0\" y2=\"95.32802891583364\"/><line x1=\"142.85714285714286\" x2=\"128.57142857142858\" y1=\"95.32802891583364\" y2=\"95.32802891583364\"/></g><g font-size=\"14\" text-anchor=\"start\"><text x=\"76.42857142857143\" y=\"170.33741910592107\">5</text><text x=\"133.57142857142858\" y=\"90.32802891583364\">7</text></g><g font-size=\"14\" text-anchor=\"end\"><text x=\"45.0\" y=\"94.05016275205732\">6</text></g><g font-size=\"14\" text-anchor=\"middle\"><text x=\"89.28571428571429\" y=\"15.0\">8</text><text x=\"28.571428571428573\" y=\"200.0\">1</text><text x=\"57.142857142857146\" y=\"200.0\">0</text><text x=\"85.71428571428572\" y=\"200.0\">3</text><text x=\"114.28571428571429\" y=\"200.0\">2</text><text x=\"142.85714285714286\" y=\"200.0\">4</text></g><circle cx=\"89.28571428571429\" cy=\"20.0\" fill=\"blue\" r=\"3\"/><circle cx=\"50.0\" cy=\"99.05016275205732\" fill=\"blue\" r=\"3\"/><circle cx=\"28.571428571428573\" cy=\"180.0\" fill=\"red\" r=\"3\"/><circle cx=\"71.42857142857143\" cy=\"175.33741910592107\" fill=\"blue\" r=\"3\"/><circle cx=\"57.142857142857146\" cy=\"180.0\" fill=\"red\" r=\"3\"/><circle cx=\"85.71428571428572\" cy=\"180.0\" fill=\"blue\" r=\"3\"/><circle cx=\"128.57142857142858\" cy=\"95.32802891583364\" fill=\"blue\" r=\"3\"/><circle cx=\"114.28571428571429\" cy=\"180.0\" fill=\"red\" r=\"3\"/><circle cx=\"142.85714285714286\" cy=\"180.0\" fill=\"green\" r=\"3\"/><g alignment-baseline=\"middle\" font-size=\"14\" font-style=\"italic\" text-anchor=\"start\"><text x=\"147.85714285714286\" y=\"163.33200722895842\">0</text><text x=\"147.85714285714286\" y=\"142.16401445791683\">9</text><text x=\"147.85714285714286\" y=\"120.99602168687522\">11</text><text x=\"76.42857142857143\" y=\"141.6937909289892\">3</text><text x=\"133.57142857142858\" y=\"74.7186859438891\">1</text><text x=\"133.57142857142858\" y=\"49.60934297194455\">5</text></g><g alignment-baseline=\"middle\" font-size=\"14\" font-style=\"italic\" text-anchor=\"end\"><text x=\"23.571428571428573\" y=\"157.51672091735244\">2</text><text x=\"23.571428571428573\" y=\"130.5334418347049\">7</text><text x=\"109.28571428571429\" y=\"142.16401445791683\">6</text><text x=\"45.0\" y=\"87.74013020164585\">4</text><text x=\"45.0\" y=\"71.93009765123439\">8</text><text x=\"45.0\" y=\"56.12006510082293\">10</text><text x=\"45.0\" y=\"40.310032550411464\">12</text></g><rect fill=\"red\" height=\"6\" width=\"6\" x=\"25.571428571428573\" y=\"150.01672091735244\"/><rect fill=\"green\" height=\"6\" width=\"6\" x=\"25.571428571428573\" y=\"123.03344183470489\"/><rect fill=\"red\" height=\"6\" width=\"6\" x=\"111.28571428571429\" y=\"134.66401445791683\"/><rect fill=\"green\" height=\"6\" width=\"6\" x=\"139.85714285714286\" y=\"155.83200722895842\"/><rect fill=\"green\" height=\"6\" width=\"6\" x=\"139.85714285714286\" y=\"134.66401445791683\"/><rect fill=\"green\" height=\"6\" width=\"6\" x=\"139.85714285714286\" y=\"113.49602168687522\"/><rect fill=\"blue\" height=\"6\" width=\"6\" x=\"68.42857142857143\" y=\"134.1937909289892\"/><rect fill=\"blue\" height=\"6\" width=\"6\" x=\"47.0\" y=\"80.24013020164585\"/><rect fill=\"blue\" height=\"6\" width=\"6\" x=\"47.0\" y=\"64.43009765123439\"/><rect fill=\"blue\" height=\"6\" width=\"6\" x=\"47.0\" y=\"48.62006510082293\"/><rect fill=\"blue\" height=\"6\" width=\"6\" x=\"47.0\" y=\"32.810032550411464\"/><rect fill=\"red\" height=\"6\" width=\"6\" x=\"125.57142857142858\" y=\"67.2186859438891\"/><rect fill=\"red\" height=\"6\" width=\"6\" x=\"125.57142857142858\" y=\"42.10934297194455\"/></svg>"
      ],
      "text/plain": [
       "<IPython.core.display.SVG object>"
      ]
     },
     "execution_count": 110,
     "metadata": {},
     "output_type": "execute_result"
    }
   ],
   "source": [
    "tree = ts.first()\n",
    "colour_map = {0:\"red\", 1:\"blue\", 2: \"green\"}\n",
    "node_colours = {u: colour_map[tree.population(u)] for u in tree.nodes()}\n",
    "mutation_colours = {mut.id: colour_map[mutation_population[mut.id]] for mut in tree.mutations()}\n",
    "SVG(tree.draw(node_colours=node_colours, mutation_colours=mutation_colours))\n",
    "    "
   ]
  },
  {
   "cell_type": "markdown",
   "metadata": {},
   "source": [
    "This example shows the locations in which the mutations along the tree branches. We show a single tree here for simplicity, but the method also works when we have recombination."
   ]
  }
 ],
 "metadata": {
  "kernelspec": {
   "display_name": "Python 3",
   "language": "python",
   "name": "python3"
  },
  "language_info": {
   "codemirror_mode": {
    "name": "ipython",
    "version": 3
   },
   "file_extension": ".py",
   "mimetype": "text/x-python",
   "name": "python",
   "nbconvert_exporter": "python",
   "pygments_lexer": "ipython3",
   "version": "3.6.2"
  }
 },
 "nbformat": 4,
 "nbformat_minor": 2
}
