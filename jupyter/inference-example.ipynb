{
 "cells": [
  {
   "cell_type": "code",
   "execution_count": 2,
   "metadata": {},
   "outputs": [],
   "source": [
    "%matplotlib inline\n",
    "import msprime\n",
    "import numpy as np\n",
    "import pandas as pd\n",
    "import seaborn as sns\n",
    "import matplotlib.pyplot as plt\n",
    "\n",
    "from IPython.display import SVG"
   ]
  },
  {
   "cell_type": "markdown",
   "metadata": {},
   "source": [
    "## Setting up a simple ABC inference scheme"
   ]
  },
  {
   "cell_type": "markdown",
   "metadata": {},
   "source": [
    "The analytical challenges of deriving likelihood functions even under highly idealized models of population structure and history have led to the development of likelihood-free inference methods, in particular Approximate Bayesian Computation (ABC) (ref). ABC approximates the posterior distribution of model parameters by drawing from simulations. Because of its flexibility ABC has become a standard inference tool in statistical population genetics.\n",
    "\n",
    "We will demonstrate how msprime can be used to set up an ABC inference by means of a simple toy example. We stress that this is meant as an illustration rather than a inference tool for practical use. However, given the flexibility of msprime, we hope to that it should be relatively straighforward to implement more realistic framework focussed on specific inference applications.\n",
    "\n",
    "We assume that data for 100 loci or sequence blocks (these could be RAD loci in practice) for a single diploid individual have been generated from each of two populations. We would like to infer the amount of gene flow between the two populations. For the sake of simplicity we will assume the simplest possible model of population structure; that is two populations, each of the same effective size that exchange migrants at a constant rate of $M=4 N_e m$ migrants per generation. \n",
    "\n",
    "The function ``run_simulation`` simulates a dataset consisting of a specified number of loci (num_loci) given a migration rate m. We generate a single dataset of 100 loci assuming a migration rate m=0.3 (KL: we need to say that N_e is set to one by default), which we will use as a (pseudo)observed dataset in the ABC implementation."
   ]
  },
  {
   "cell_type": "code",
   "execution_count": 97,
   "metadata": {},
   "outputs": [],
   "source": [
    "nsamp = 2\n",
    "theta = 2\n",
    "true_m = 0.3\n",
    "\n",
    "def run_sims(m, num_loci=1,theta=0):    \n",
    "    replicates = msprime.simulate(\n",
    "        Ne=1/2,\n",
    "        population_configurations=[\n",
    "            msprime.PopulationConfiguration(sample_size=nsamp),\n",
    "            msprime.PopulationConfiguration(sample_size=nsamp)],        \n",
    "        migration_matrix=[[0, m], [m, 0]],\n",
    "        num_replicates=num_loci, \n",
    "        mutation_rate=theta / 2)\n",
    "    return replicates\n",
    "\n",
    "def sum_seq_data_SFS(reps):\n",
    "    data = np.zeros((num_loci, nsamp + 1, nsamp + 1))\n",
    "    for rep_index, ts in enumerate(reps):\n",
    "        for tree in ts.trees(tracked_samples=[0, 1]):            \n",
    "            for site in tree.sites():\n",
    "                assert len(site.mutations) == 1\n",
    "                mutation = site.mutations[0]           \n",
    "                nleaves0 = tree.num_tracked_samples(mutation.node)\n",
    "                nleaves1 = tree.num_samples(mutation.node) - nleaves0                \n",
    "                data[rep_index, nleaves0, nleaves1] += 1            \n",
    "    return data\n",
    "\n",
    "num_loci = 100\n",
    "\n",
    "truth = sum_seq_data_SFS(run_sims(true_m, num_loci=num_loci, theta=2))"
   ]
  },
  {
   "cell_type": "markdown",
   "metadata": {},
   "source": [
    "The ``run_sims`` function returns an iterator with the complete tree sequence and mutational information of each locus. We use sum_seqData_SFS to summarize the polymorphism information as the joint site frequency spectrum (jSFS) of each locus, i.e. the blockwise site frequency spectrum bSFS (sensu Lohse et al 2016). Since msprime simulates rooted trees, the columns and rows of the unfolded jSFS correspond to the frequency of derived mutations in each population and the entries of the jSFS are simply mutation counts. E.g. for the first locus we have:"
   ]
  },
  {
   "cell_type": "code",
   "execution_count": 101,
   "metadata": {},
   "outputs": [
    {
     "name": "stdout",
     "output_type": "stream",
     "text": [
      "jSFS counts, first locus =\n",
      "[[ 0.  1.  0.]\n",
      " [ 0.  0.  0.]\n",
      " [ 0.  0.  0.]]\n"
     ]
    }
   ],
   "source": [
    "print(\"jSFS counts, first locus =\")\n",
    "print(truth[0])"
   ]
  },
  {
   "cell_type": "markdown",
   "metadata": {},
   "source": [
    "One could base inference on the bSFS (Beeravolou et al), but we will for the sake of simplicity use a simpler (and lossy) summary of the data: the average jSFS across loci. For analyses based on SNPs it is convient to normalize the jSFS by the total number of mutations:"
   ]
  },
  {
   "cell_type": "code",
   "execution_count": 103,
   "metadata": {},
   "outputs": [
    {
     "name": "stdout",
     "output_type": "stream",
     "text": [
      "mean jSFS =\n",
      "[[ 0.          0.24577861  0.18011257]\n",
      " [ 0.18761726  0.05534709  0.08067542]\n",
      " [ 0.19981238  0.05065666  0.        ]]\n"
     ]
    }
   ],
   "source": [
    "truth_mean = np.mean(truth, axis=0)\n",
    "truth_mean /= np.sum(truth_mean)\n",
    "print(\"mean jSFS =\")\n",
    "print(truth_mean)"
   ]
  },
  {
   "cell_type": "markdown",
   "metadata": {},
   "source": [
    "To illustrate a simple ABC inference scheme, we will focus on a single parameter of interest, the migration rate $m$.\n",
    "\n",
    "We use the function ``run_sims`` to simulate 10,000 datasets, each consisting of 100 genealogies and seeded by a random draw from the prior distribution of $m$. Below we assume an exponential distribution, a common choice of prior (ref Hey & Wakeley 2002). \n",
    "\n",
    "ABC measures the fit of data simulated under the prior to the observed data via a vector of summary statistics. We will use the jSFS as a summary statistic and approximate the jSFS from the length of genealogical branches (as in the bottleneck section above). Note that higher level population genetic summaries such as pairwise measures of divergence and diversity, $F_{ST}$ or $D$ (ref Charlesworth & Charlesworth) which are often used in ABC inference are just further (and lossy) summaries of the jSFS."
   ]
  },
  {
   "cell_type": "code",
   "execution_count": 115,
   "metadata": {},
   "outputs": [
    {
     "name": "stdout",
     "output_type": "stream",
     "text": [
      "[[ 0.          0.22020461  0.16208764]\n",
      " [ 0.22999088  0.06324196  0.08850297]\n",
      " [ 0.16692005  0.0690519   0.        ]]\n"
     ]
    }
   ],
   "source": [
    "num_reps = 100\n",
    "def approx_jSFS(reps):\n",
    "    B = np.zeros((num_reps, nsamp + 1, nsamp + 1))\n",
    "    for rep_index, ts in enumerate(reps):        \n",
    "        samp1 = ts.samples(population_id=0)\n",
    "        for tree in ts.trees(tracked_samples=samp1):\n",
    "            # Note that this will be inefficient if we have lots of trees. Should\n",
    "            # use an incremental update strategy using edge_diffs in this case.\n",
    "            for u in tree.nodes():\n",
    "                nleaves1 = tree.num_tracked_samples(u)\n",
    "                nleaves2 = tree.num_samples(u) - nleaves1\n",
    "                if tree.parent(u) != msprime.NULL_NODE:\n",
    "                    B[rep_index, nleaves1, nleaves2] += tree.branch_length(u)\n",
    "    data = np.mean(B, axis=0)        \n",
    "    return data / np.sum(data)\n",
    "\n",
    "num_prior_draws = 10000\n",
    "prior_m = np.random.exponential(0.1, num_prior_draws)\n",
    "prior_jSFS = np.zeros((num_prior_draws, nsamp + 1, nsamp + 1))\n",
    "for j in range(num_prior_draws):\n",
    "    prior_jSFS[j] = approx_jSFS(run_sims(prior_m[j], num_loci=num_reps))\n",
    "print(prior_jSFS[0])"
   ]
  },
  {
   "cell_type": "markdown",
   "metadata": {},
   "source": [
    "We compute the Euclidean distance between the observed jSFS and that of each simulated dataset:"
   ]
  },
  {
   "cell_type": "code",
   "execution_count": 116,
   "metadata": {},
   "outputs": [],
   "source": [
    "distances = np.zeros(num_prior_draws)\n",
    "for j in range(num_prior_draws):\n",
    "    distances[j] = np.sqrt(np.sum((prior_jSFS[j] - truth_mean)**2))"
   ]
  },
  {
   "cell_type": "markdown",
   "metadata": {},
   "source": [
    "In its simplest form, ABC approximates the posterior by sampling from the simulated data via an acceptance threshold: e.g. we can approximate the posterior distribution of m from the 5% of simulation replicates that most closely match the jSFS of the observed data. The posterior distribution (shown in orange) is centred around the truth m=0.3. (need to add axes labels for these x=m, y=posterior density)"
   ]
  },
  {
   "cell_type": "code",
   "execution_count": 117,
   "metadata": {},
   "outputs": [
    {
     "data": {
      "image/png": "[encoded data removed]",
      "text/plain": [
       "<matplotlib.figure.Figure at 0x7f2500b94668>"
      ]
     },
     "metadata": {},
     "output_type": "display_data"
    }
   ],
   "source": [
    "cutoff = np.percentile(distances, 5)\n",
    "mean_m = np.mean(post_m)\n",
    "ci_m = np.percentile(post_m, 2.5), np.percentile(post_m, 95.75)\n",
    "keep = np.where(distances < cutoff)\n",
    "post_m=prior_m[keep]\n",
    "sns.distplot(prior_m, label=\"Prior\")\n",
    "sns.distplot(post_m, label=\"Posterior\")\n",
    "plt.xlabel(\"Migration rate\");\n",
    "plt.axvline(x=true_m, ls=\"--\", color=\"black\")\n",
    "plt.axvline(x=mean_m, ls=\":\")\n",
    "plt.axvline(x=ci_m[0], ls=\":\", color=\"grey\")\n",
    "plt.axvline(x=ci_m[1], ls=\":\", color=\"grey\")\n",
    "plt.text(true_m, 9.5, \"True value\", horizontalalignment=\"center\")\n",
    "plt.xlim(0, 0.6)\n",
    "plt.legend();"
   ]
  },
  {
   "cell_type": "markdown",
   "metadata": {},
   "source": [
    "The mean and 95% approximate posterior credibility intervals for m are:"
   ]
  },
  {
   "cell_type": "code",
   "execution_count": 29,
   "metadata": {},
   "outputs": [
    {
     "name": "stdout",
     "output_type": "stream",
     "text": [
      "[0.25125896642668366, [0.12881974641129323, 0.42903263159385019]]\n"
     ]
    }
   ],
   "source": [
    "print([mean_m, ci_m])"
   ]
  },
  {
   "cell_type": "markdown",
   "metadata": {},
   "source": [
    "## Cross-validation using pseudoobserved data sets"
   ]
  },
  {
   "cell_type": "markdown",
   "metadata": {},
   "source": [
    "A question that commonly arises in the context of ABC is how much power/information we can expect about a particular parameter. A straightforward cross-validation procedure consists of repeating the inference on pseudoobserved data sets (PODS) generated under a known truth. Since we can use re-use the same set of simulation replicates for inference, this is computationally efficient. Here we generate 100 PODS (each consisting of 100 loci) for m=0.3:"
   ]
  },
  {
   "cell_type": "code",
   "execution_count": 31,
   "metadata": {},
   "outputs": [],
   "source": [
    "num_loci = 100\n",
    "num_pseudo_obs = 100\n",
    "data_pseudo_obs = np.zeros((num_pseudo_obs, nsamp+1, nsamp+1))\n",
    "for j in range(num_pseudo_obs):   \n",
    "    data = sum_seqData_SFS(run_sims(true_m, num_loci=num_loci, theta=2))\n",
    "    data_mean = np.mean(data, axis=0)\n",
    "    data_pseudo_obs[j] = data_mean/ np.sum(data_mean)"
   ]
  },
  {
   "cell_type": "markdown",
   "metadata": {},
   "source": [
    "We record the mean posterior estimate of m for each PODS: The mean of m estimates across PODS is close to the truth; the SD is 0.04. +/- 2SD gives a slightly narrower 95% posterior credibility interval than we obtained for the first replicate."
   ]
  },
  {
   "cell_type": "code",
   "execution_count": 53,
   "metadata": {},
   "outputs": [],
   "source": [
    "mean_ests = np.zeros(num_pseudo_obs)\n",
    "for k in range(num_pseudo_obs):\n",
    "    distances = np.zeros(num_prior_draws)\n",
    "    for j in range(num_prior_draws):\n",
    "        distances[j] = np.sqrt(np.sum((data_pseudo_obs[k]-prior_jSFS[j])**2))\n",
    "    keep = np.where(distances < cutoff)\n",
    "    mean_ests[k] = np.mean(prior_m[keep])"
   ]
  },
  {
   "cell_type": "code",
   "execution_count": 91,
   "metadata": {},
   "outputs": [
    {
     "name": "stdout",
     "output_type": "stream",
     "text": [
      "[0.24442604878568283, [0.16802508341321221, 0.32082701415815346]]\n"
     ]
    },
    {
     "data": {
      "image/png": "[encoded data removed]",
      "text/plain": [
       "<matplotlib.figure.Figure at 0x7f24ffece860>"
      ]
     },
     "metadata": {},
     "output_type": "display_data"
    }
   ],
   "source": [
    "meanmPODS=np.mean(mean_ests)\n",
    "SDmPODS=np.std(mean_ests)\n",
    "print([meanmPODS, [meanmPODS - 2*SDmPODS, meanmPODS + 2*SDmPODS]])\n",
    "sns.distplot(mean_ests)\n",
    "plt.xlabel(\"Migration rate\");\n",
    "plt.axvline(x=true_m, ls=\"--\", color=\"black\")\n",
    "plt.axvline(x=meanmPODS, ls=\":\")\n",
    "plt.axvline(x=meanmPODS - 2*SDmPODS, ls=\":\", color=\"grey\")\n",
    "plt.axvline(x=meanmPODS + 2*SDmPODS, ls=\":\", color=\"grey\")\n",
    "plt.text(true_m, 13, \"True value\", horizontalalignment=\"center\");"
   ]
  },
  {
   "cell_type": "markdown",
   "metadata": {},
   "source": [
    "What effect does the acceptance threshold have on the inference? We compute the root-mean squared erro for a range of thresholds:"
   ]
  },
  {
   "cell_type": "code",
   "execution_count": 36,
   "metadata": {},
   "outputs": [],
   "source": [
    "cutoffs = np.array([0.675,1.25,2.5,5,10,20])\n",
    "len_c = len(cutoffs)\n",
    "cutoff_range = [np.percentile(distances, i) for i in cutoffs]\n",
    "post_means = [np.mean(prior_m[np.where(distances < i)]) for i in cutoff_range] \n",
    "\n",
    "mean_ests = np.zeros((len_c,num_pseudo_obs))\n",
    "for i in range(len_c):          \n",
    "    for k in range(num_pseudo_obs):\n",
    "        distances = np.zeros(num_prior_draws)\n",
    "        for j in range(num_prior_draws):\n",
    "            distances[j] = np.sqrt(np.sum((data_pseudo_obs[k]-prior_jSFS[j])**2))\n",
    "        cutoff=np.percentile(distances, cutoffs[i])\n",
    "        keep = np.where(distances < cutoff)\n",
    "        mean_ests[i][k] = np.mean(prior_m[keep])"
   ]
  },
  {
   "cell_type": "code",
   "execution_count": 37,
   "metadata": {},
   "outputs": [
    {
     "name": "stdout",
     "output_type": "stream",
     "text": [
      "[ 0.28097825  0.27877469  0.27394852  0.26776317  0.25619948  0.23263214]\n",
      "[0.63886407376791876, 0.62035898227768405, 0.60095997716840144, 0.57808941553328708, 0.58642992381010395, 0.71464291903255295]\n"
     ]
    }
   ],
   "source": [
    "mean_m = np.mean(mean_ests, axis=1)\n",
    "mean_square_err = np.zeros((len_c,num_pseudo_obs))\n",
    "for i in range(len_c):\n",
    "    for k in range(num_pseudo_obs):\n",
    "        mean_square_err[i][k] = (mean_ests[i][k] - true_m)**2\n",
    "mean_square_err_fin =[np.sqrt(np.sum(mean_square_err[i])) for i in range(len_c)]\n",
    "print(mean_m)\n",
    "print(mean_square_err_fin)"
   ]
  },
  {
   "cell_type": "code",
   "execution_count": 73,
   "metadata": {},
   "outputs": [
    {
     "data": {
      "image/png": "[encoded data removed]",
      "text/plain": [
       "<matplotlib.figure.Figure at 0x7f25009c1208>"
      ]
     },
     "metadata": {},
     "output_type": "display_data"
    }
   ],
   "source": [
    "plt.plot(cutoffs, mean_m, label=\"Mean m\");\n",
    "plt.plot(cutoffs, mean_square_err_fin, label=\"RMSE\")\n",
    "plt.xlabel(\"Acceptance threshold %\")\n",
    "plt.axhline(y=true_m, ls=\"--\", color=\"black\")\n",
    "plt.text(22, true_m, \"True value\")\n",
    "plt.legend();"
   ]
  },
  {
   "cell_type": "markdown",
   "metadata": {},
   "source": [
    "I think we want a plot of the mean and the root-mean_squared error (as defined above) against the acceptance threshold. This would show that posterior mean of m is increasingly biased (downwards) if we accept a larger sample from the posterior but that the error is very little affected by the acceptance threshold.\n",
    "\n",
    "We also need to include axes labels on all plots and show the true m value (0.3 on the histogram above)..."
   ]
  }
 ],
 "metadata": {
  "kernelspec": {
   "display_name": "Python 3",
   "language": "python",
   "name": "python3"
  },
  "language_info": {
   "codemirror_mode": {
    "name": "ipython",
    "version": 3
   },
   "file_extension": ".py",
   "mimetype": "text/x-python",
   "name": "python",
   "nbconvert_exporter": "python",
   "pygments_lexer": "ipython3",
   "version": "3.5.2"
  }
 },
 "nbformat": 4,
 "nbformat_minor": 2
}
