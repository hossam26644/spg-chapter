{
 "cells": [
  {
   "cell_type": "code",
   "execution_count": 1,
   "metadata": {},
   "outputs": [],
   "source": [
    "%matplotlib inline\n",
    "import msprime\n",
    "import numpy as np\n",
    "import pandas as pd\n",
    "import seaborn as sns\n",
    "import matplotlib.pyplot as plt\n",
    "import multiprocessing\n",
    "\n",
    "from IPython.display import SVG"
   ]
  },
  {
   "cell_type": "markdown",
   "metadata": {},
   "source": [
    "## Setting up a simple ABC inference scheme"
   ]
  },
  {
   "cell_type": "markdown",
   "metadata": {},
   "source": [
    "The analytical challenges of deriving likelihood functions even under highly idealized models of population structure and history have led to the development of likelihood-free inference methods, in particular Approximate Bayesian Computation (ABC) (Beaumont 2002). ABC approximates the posterior distribution of model parameters by drawing from simulations. Because of its flexibility ABC has become a standard inference tool in statistical population genetics.\n",
    "\n",
    "We will demonstrate how msprime can be used to set up an ABC inference by means of a simple toy example. We stress that this is meant as an illustration rather than a inference tool for practical use. However, given the flexibility of msprime, we hope to that it should be relatively straighforward to implement more realistic framework focussed on specific inference applications.\n",
    "\n",
    "We assume that data for 200 loci or sequence blocks (these could be RAD loci in practice) for a single diploid individual have been generated from each of two populations. We would like to infer the amount of gene flow between the two populations. For the sake of simplicity we will assume the simplest possible model of population structure; that is two populations, each of the same effective size that exchange migrants at a constant rate of $M=4 N_e m$ migrants per generation. \n",
    "\n",
    "The function ``run_sims`` simulates a dataset consisting of a specified number of loci (``num_loci``) given a migration rate $m$. We generate a single dataset of 50 loci assuming a migration rate $m=0.3$, which we will use as a (pseudo)observed dataset in the ABC implementation."
   ]
  },
  {
   "cell_type": "code",
   "execution_count": 2,
   "metadata": {},
   "outputs": [],
   "source": [
    "nsamp = 2\n",
    "theta = 2\n",
    "true_m = 0.3\n",
    "num_loci = 200\n",
    "\n",
    "def run_sims(m, num_loci=1,theta=0):    \n",
    "    return msprime.simulate(\n",
    "        Ne=1/2,\n",
    "        population_configurations=[\n",
    "            msprime.PopulationConfiguration(sample_size=nsamp),\n",
    "            msprime.PopulationConfiguration(sample_size=nsamp)],        \n",
    "        migration_matrix=[[0, m], [m, 0]],\n",
    "        num_replicates=num_loci, \n",
    "        mutation_rate=theta / 2)\n",
    "\n",
    "def get_joint_site_frequency_specta(reps):\n",
    "    data = np.zeros((num_loci, nsamp + 1, nsamp + 1))\n",
    "    for rep_index, ts in enumerate(reps):\n",
    "        # Track the samples from population 0.\n",
    "        for tree in ts.trees(tracked_samples=[0, 1]):            \n",
    "            for site in tree.sites():\n",
    "                assert len(site.mutations) == 1\n",
    "                mutation = site.mutations[0]           \n",
    "                nleaves0 = tree.num_tracked_samples(mutation.node)\n",
    "                nleaves1 = tree.num_samples(mutation.node) - nleaves0                \n",
    "                data[rep_index, nleaves0, nleaves1] += 1            \n",
    "    return data\n",
    "\n",
    "truth = get_joint_site_frequency_specta(\n",
    "    run_sims(true_m, num_loci=num_loci, theta=2))"
   ]
  },
  {
   "cell_type": "markdown",
   "metadata": {},
   "source": [
    "The ``run_sims`` function returns an iterator with the complete tree sequence and mutational information of each locus. We use the function ``get_joint_site_frequency_specta`` to summarize the polymorphism information as the joint site frequency spectrum (jSFS) of each locus, i.e. the blockwise site frequency spectrum bSFS (sensu Lohse et al 2016). Since msprime simulates rooted trees, the columns and rows of the unfolded jSFS correspond to the frequency of derived mutations in each population and the entries of the jSFS are simply mutation counts. E.g. for the first locus we have:"
   ]
  },
  {
   "cell_type": "code",
   "execution_count": 3,
   "metadata": {},
   "outputs": [
    {
     "name": "stdout",
     "output_type": "stream",
     "text": [
      "jSFS counts, first locus =\n",
      "[[ 0.  0.  1.]\n",
      " [ 0.  0.  0.]\n",
      " [ 2.  0.  0.]]\n"
     ]
    }
   ],
   "source": [
    "print(\"jSFS counts, first locus =\")\n",
    "print(truth[0])"
   ]
  },
  {
   "cell_type": "markdown",
   "metadata": {},
   "source": [
    "One could base inference on the bSFS (Lohse 2016 et al, Beeravolou et al 2017), but we will for the sake of simplicity use a simpler (and lossy) summary of the data: the average jSFS across loci. For analyses based on SNPs it is convient to normalize the jSFS by the total number of mutations:"
   ]
  },
  {
   "cell_type": "code",
   "execution_count": 4,
   "metadata": {},
   "outputs": [
    {
     "name": "stdout",
     "output_type": "stream",
     "text": [
      "mean jSFS =\n",
      "[[ 0.          0.29832347  0.16617357]\n",
      " [ 0.20414201  0.04240631  0.04832347]\n",
      " [ 0.16962525  0.07100592  0.        ]]\n"
     ]
    }
   ],
   "source": [
    "truth_mean = np.mean(truth, axis=0)\n",
    "truth_mean /= np.sum(truth_mean)\n",
    "print(\"mean jSFS =\")\n",
    "print(truth_mean)"
   ]
  },
  {
   "cell_type": "markdown",
   "metadata": {},
   "source": [
    "To illustrate a simple ABC inference scheme, we will focus on a single parameter of interest, the migration rate $m$.\n",
    "\n",
    "ABC measures the fit of data simulated under the prior to the observed data via a vector of summary statistics. We will use the jSFS as a summary statistic and approximate the jSFS for each $m$ value as the mean length of genealogical branches (as in the bottleneck section above) across 100 simulation replicates (``num_reps``). Below we draw 10,000 $m$ values from the prior and use the function ``run_sims`` and ``approx_jSFS`` to approximate the jSFS for each. We assume an exponential distribution, a common choice of prior (Hey & Wakeley 2002). \n",
    "\n",
    "Note that higher level population genetic summaries, e.g.\\ pairwise measures of divergence and diversity such as $D_{XY}$ (Nei 1987) and $F_{ST}$ (Wright 1950) or multi-population $F$ statistics (Durand et al 2011, Patterson 2012) which are often used in ABC inference are just further (and lossy) summaries of the jSFS."
   ]
  },
  {
   "cell_type": "code",
   "execution_count": 5,
   "metadata": {},
   "outputs": [
    {
     "name": "stdout",
     "output_type": "stream",
     "text": [
      "[[ 0.          0.10743359  0.3748975 ]\n",
      " [ 0.0862899   0.00068621  0.01690864]\n",
      " [ 0.37406319  0.03972095  0.        ]]\n"
     ]
    }
   ],
   "source": [
    "\n",
    "num_reps = 100\n",
    "num_prior_draws = 10000\n",
    "prior_m = np.random.exponential(0.1, num_prior_draws)\n",
    "\n",
    "def approx_jSFS(m):\n",
    "    reps = run_sims(m, num_loci=num_reps)\n",
    "    B = np.zeros((num_reps, nsamp + 1, nsamp + 1))\n",
    "    for rep_index, ts in enumerate(reps):        \n",
    "        samp1 = ts.samples(population_id=0)\n",
    "        for tree in ts.trees(tracked_samples=samp1):\n",
    "            # Note that this will be inefficient if we have lots of trees. Should\n",
    "            # use an incremental update strategy using edge_diffs in this case.\n",
    "            for u in tree.nodes():\n",
    "                nleaves1 = tree.num_tracked_samples(u)\n",
    "                nleaves2 = tree.num_samples(u) - nleaves1\n",
    "                if tree.parent(u) != msprime.NULL_NODE:\n",
    "                    B[rep_index, nleaves1, nleaves2] += tree.branch_length(u)\n",
    "    data = np.mean(B, axis=0)        \n",
    "    return data / np.sum(data)\n",
    "\n",
    "with multiprocessing.Pool() as pool:\n",
    "    prior_jSFS = pool.map(approx_jSFS, prior_m)\n",
    "\n",
    "print(prior_jSFS[0])"
   ]
  },
  {
   "cell_type": "markdown",
   "metadata": {},
   "source": [
    "We compute the Euclidean distance between the estimated jSFS for each draw from the prior (prior_jSFS) and the jSFS in the (pseudo)observed data (truth_mean):"
   ]
  },
  {
   "cell_type": "code",
   "execution_count": 6,
   "metadata": {},
   "outputs": [],
   "source": [
    "distances = np.zeros(num_prior_draws)\n",
    "for j in range(num_prior_draws):\n",
    "    distances[j] = np.sqrt(np.sum((prior_jSFS[j] - truth_mean)**2))"
   ]
  },
  {
   "cell_type": "markdown",
   "metadata": {},
   "source": [
    "In its simplest form, ABC approximates the posterior by sampling from the simulated data via an acceptance threshold. Here we approximate the posterior distribution of $m$ from the 5% of simulation replicates that most closely match the jSFS of the observed data. The posterior distribution (shown in green) is centred around $m=0.25$."
   ]
  },
  {
   "cell_type": "code",
   "execution_count": 7,
   "metadata": {},
   "outputs": [
    {
     "data": {
      "image/png": "[encoded data removed]",
      "text/plain": [
       "<matplotlib.figure.Figure at 0x7eff3907c940>"
      ]
     },
     "metadata": {},
     "output_type": "display_data"
    }
   ],
   "source": [
    "cutoff = np.percentile(distances, 5)\n",
    "keep = np.where(distances < cutoff)\n",
    "post_m = prior_m[keep]\n",
    "mean_m = np.mean(post_m)\n",
    "ci_m = np.percentile(post_m, 2.5), np.percentile(post_m, 95.75)\n",
    "sns.distplot(prior_m, label=\"Prior\")\n",
    "sns.distplot(post_m, label=\"Posterior\")\n",
    "plt.xlabel(\"Migration rate\");\n",
    "plt.axvline(x=true_m, ls=\"--\", color=\"black\")\n",
    "plt.axvline(x=mean_m, ls=\":\")\n",
    "plt.axvline(x=ci_m[0], ls=\":\", color=\"grey\")\n",
    "plt.axvline(x=ci_m[1], ls=\":\", color=\"grey\")\n",
    "plt.text(true_m, plt.ylim()[1], \"True value\", horizontalalignment=\"center\")\n",
    "plt.xlim(0, 0.6)\n",
    "plt.legend();"
   ]
  },
  {
   "cell_type": "markdown",
   "metadata": {},
   "source": [
    "The mean and the 95% approximate posterior credible interval for $m$ are:"
   ]
  },
  {
   "cell_type": "code",
   "execution_count": 8,
   "metadata": {},
   "outputs": [
    {
     "name": "stdout",
     "output_type": "stream",
     "text": [
      "[0.27899421286273213, (0.16471502629282914, 0.43559238241989584)]\n"
     ]
    }
   ],
   "source": [
    "print([mean_m, ci_m])"
   ]
  },
  {
   "cell_type": "markdown",
   "metadata": {},
   "source": [
    "## Cross-validation using pseudoobserved data sets"
   ]
  },
  {
   "cell_type": "markdown",
   "metadata": {},
   "source": [
    "A question that commonly arises in the context of ABC is how much power/information we can expect about a particular parameter. A straightforward cross-validation procedure consists of repeating the inference on pseudoobserved data sets (PODS) generated under a known truth. Since we can use re-use the same set of simulation replicates for inference, this is computationally efficient. Here we generate 100 POD, each consisting of 200 loci for $m=0.3$ and store the corresponding jSFS as an array (data_pseudo_obs):"
   ]
  },
  {
   "cell_type": "code",
   "execution_count": 9,
   "metadata": {},
   "outputs": [],
   "source": [
    "num_loci = 200\n",
    "num_pseudo_obs = 100\n",
    "data_pseudo_obs = np.zeros((num_pseudo_obs, nsamp+1, nsamp+1))\n",
    "for j in range(num_pseudo_obs):   \n",
    "    data = get_joint_site_frequency_specta(\n",
    "        run_sims(true_m, num_loci=num_loci, theta=2))\n",
    "    data_mean = np.mean(data, axis=0)\n",
    "    data_pseudo_obs[j] = data_mean / np.sum(data_mean)"
   ]
  },
  {
   "cell_type": "markdown",
   "metadata": {},
   "source": [
    "We record the mean posterior estimate of $m$ for each PODS. The standard deviation (SD) of $m$ estimates across PODS is 0.04. We can use this to obtain an approximate estimate of the 95% posterior credibility interval (+/- 2SD), which is slightly narrower than the 95% posterior credibility interval estimated from the posterior distribution of a single PODS above."
   ]
  },
  {
   "cell_type": "code",
   "execution_count": 10,
   "metadata": {},
   "outputs": [],
   "source": [
    "mean_ests = np.zeros(num_pseudo_obs)\n",
    "for k in range(num_pseudo_obs):\n",
    "    distances = np.zeros(num_prior_draws)\n",
    "    for j in range(num_prior_draws):\n",
    "        distances[j] = np.sqrt(np.sum((data_pseudo_obs[k] - prior_jSFS[j])**2))\n",
    "    keep = np.where(distances < cutoff)\n",
    "    mean_ests[k] = np.mean(prior_m[keep])"
   ]
  },
  {
   "cell_type": "code",
   "execution_count": 11,
   "metadata": {},
   "outputs": [
    {
     "name": "stdout",
     "output_type": "stream",
     "text": [
      "[0.26841062799969878, [0.20156575611080468, 0.33525549988859288]]\n"
     ]
    },
    {
     "data": {
      "image/png": "[encoded data removed]",
      "text/plain": [
       "<matplotlib.figure.Figure at 0x7eff388e5208>"
      ]
     },
     "metadata": {},
     "output_type": "display_data"
    }
   ],
   "source": [
    "meanmPODS=np.mean(mean_ests)\n",
    "SDmPODS=np.std(mean_ests)\n",
    "print([meanmPODS, [meanmPODS - 2 * SDmPODS, meanmPODS + 2*SDmPODS]])\n",
    "sns.distplot(mean_ests)\n",
    "plt.xlabel(\"Migration rate\");\n",
    "plt.axvline(x=true_m, ls=\"--\", color=\"black\")\n",
    "plt.axvline(x=meanmPODS, ls=\":\")\n",
    "plt.axvline(x=meanmPODS - 2*SDmPODS, ls=\":\", color=\"grey\")\n",
    "plt.axvline(x=meanmPODS + 2*SDmPODS, ls=\":\", color=\"grey\")\n",
    "plt.text(true_m, plt.ylim()[1], \"True value\", horizontalalignment=\"center\");"
   ]
  },
  {
   "cell_type": "markdown",
   "metadata": {},
   "source": [
    "Although the true value of of $m=0.3$ is contained within the 95 % credible interval, the posterior distribution is clearly downwardly biased. This bias is expected given that our prior is biased towards low $m$. We can check the effect the acceptance threshold has on the inference, by computing the root-mean-square error (RMSE) for a range of thresholds:"
   ]
  },
  {
   "cell_type": "code",
   "execution_count": 12,
   "metadata": {},
   "outputs": [],
   "source": [
    "cutoffs = np.array([0.675,1.25,2.5,5,10,20])\n",
    "len_c = len(cutoffs)\n",
    "\n",
    "mean_ests = np.zeros((len_c,num_pseudo_obs))\n",
    "for i in range(len_c):          \n",
    "    for k in range(num_pseudo_obs):\n",
    "        distances = np.zeros(num_prior_draws)\n",
    "        for j in range(num_prior_draws):\n",
    "            distances[j] = np.sqrt(np.sum((data_pseudo_obs[k] - prior_jSFS[j])**2))\n",
    "        cutoff=np.percentile(distances, cutoffs[i])\n",
    "        keep = np.where(distances < cutoff)\n",
    "        mean_ests[i][k] = np.mean(prior_m[keep])"
   ]
  },
  {
   "cell_type": "code",
   "execution_count": 13,
   "metadata": {},
   "outputs": [],
   "source": [
    "mean_m = np.mean(mean_ests, axis=1)\n",
    "mean_square_err = np.zeros((len_c,num_pseudo_obs))\n",
    "for i in range(len_c):\n",
    "    for k in range(num_pseudo_obs):\n",
    "        mean_square_err[i][k] = (mean_ests[i][k] - true_m)**2\n",
    "mean_square_err_fin =[np.sqrt(np.sum(mean_square_err[i])) for i in range(len_c)]"
   ]
  },
  {
   "cell_type": "code",
   "execution_count": 14,
   "metadata": {},
   "outputs": [
    {
     "data": {
      "image/png": "[encoded data removed]",
      "text/plain": [
       "<matplotlib.figure.Figure at 0x7eff387e7be0>"
      ]
     },
     "metadata": {},
     "output_type": "display_data"
    }
   ],
   "source": [
    "plt.plot(cutoffs, mean_m, label=\"Mean m\");\n",
    "plt.plot(cutoffs, mean_square_err_fin, label=\"RMSE\")\n",
    "plt.xlabel(\"Acceptance threshold %\")\n",
    "plt.axhline(y=true_m, ls=\"--\", color=\"black\")\n",
    "plt.text(plt.xlim()[1], true_m, \"True value\")\n",
    "plt.legend();"
   ]
  },
  {
   "cell_type": "markdown",
   "metadata": {},
   "source": [
    "Ploting the mean and the RMSE against the acceptance threshold shows that both the downward bias in $m$ estimates and the associated RMSE increase with larger acceptance tresholds as expected. However, sampling only a small farction of simulations generated under the prior is computationally inefficient and more efficient sampling strategies for ABC inference have been developed (Beaumont 2002). While this toy example illustrates the principle of ABC, in practice we are generally interested in fitting parameter-rich models and it would be straightforward to implement ABC inference for complex model of population structure and demography in msprime."
   ]
  }
 ],
 "metadata": {
  "kernelspec": {
   "display_name": "Python 3",
   "language": "python",
   "name": "python3"
  },
  "language_info": {
   "codemirror_mode": {
    "name": "ipython",
    "version": 3
   },
   "file_extension": ".py",
   "mimetype": "text/x-python",
   "name": "python",
   "nbconvert_exporter": "python",
   "pygments_lexer": "ipython3",
   "version": "3.5.2"
  }
 },
 "nbformat": 4,
 "nbformat_minor": 2
}
