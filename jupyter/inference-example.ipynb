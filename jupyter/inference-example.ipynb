{
 "cells": [
  {
   "cell_type": "code",
   "execution_count": 2,
   "metadata": {},
   "outputs": [],
   "source": [
    "%matplotlib inline\n",
    "import msprime\n",
    "import numpy as np\n",
    "import pandas as pd\n",
    "import seaborn as sns\n",
    "import matplotlib.pyplot as plt\n",
    "\n",
    "from IPython.display import SVG"
   ]
  },
  {
   "cell_type": "markdown",
   "metadata": {},
   "source": [
    "## Setting up a simple ABC inference scheme"
   ]
  },
  {
   "cell_type": "markdown",
   "metadata": {},
   "source": [
    "The analytic challenges of deriving likelihood functions even under highly idealized models of population structure and history have led to the development of likelihood-free inference methods, in particular Approximate Bayesian Computation (ABC) (ref). ABC approximates the posterior distribution of model parameters by drawing from simulations. Because of its flexibility ABC has become a standard inference tool in statistical population genetics.\n",
    "\n",
    "We will demonstrate how msprime can be used to set up an ABC inference by the way of a simple toy example. We stress that this is meant as an illustration rather than a inference tool for pratical use. However given the flexibility of msprime, we hope to that it should be relatively straighforward to implement more realistic framework. \n",
    "\n",
    "We assume that data for 100 loci or sequence blocks (these could be RAD loci in practice) for a single diploid individual have been generated from each of two populations. We would like to infer the amount of gene flow between the two populations. For the sake of simplicity we will assume the simplest possible model of popultaion structure; that is two populations each of the same effective size that exchange migrants at a constant rate of M=4 N_e m per generation. \n",
    "\n",
    "The function run_simulation simulates a single dataset consisting of a specified number of loci (num_loci) given a migration rate m. We generate true_m, a single dataset of 20 loci assuming a migration rate m=0.3 (KL: we need to say that N_e is set to one by default), which we will use as a (pseudo)observed dataset in the ABC implementation."
   ]
  },
  {
   "cell_type": "code",
   "execution_count": 127,
   "metadata": {},
   "outputs": [],
   "source": [
    "nsamp = 2\n",
    "population_configurations = [\n",
    "    msprime.PopulationConfiguration(sample_size=nsamp),\n",
    "    msprime.PopulationConfiguration(sample_size=nsamp)]\n",
    "theta = 2\n",
    "\n",
    "def run_simulation(m, num_loci=1):\n",
    "    migration_matrix = [[0, m], [m, 0]]\n",
    "    replicates = msprime.simulate(\n",
    "        population_configurations=population_configurations,\n",
    "        migration_matrix=migration_matrix,\n",
    "        num_replicates=num_loci, \n",
    "        mutation_rate=theta/4)\n",
    "    data = np.zeros((num_loci, nsamp+1, nsamp+1))\n",
    "    for rep_index, ts in enumerate(replicates):\n",
    "        for tree in ts.trees(tracked_samples=[0, 1]):            \n",
    "            for site in tree.sites():\n",
    "                for mutation in site.mutations:                    \n",
    "                    nleaves0 = tree.num_tracked_samples(mutation.node)\n",
    "                    nleaves1 = tree.num_samples(mutation.node) - nleaves0                \n",
    "                    data[rep_index, nleaves0, nleaves1] += 1            \n",
    "    return data       \n",
    "\n",
    "true_m = 0.3\n",
    "truth = run_simulation(true_m, num_loci=100)"
   ]
  },
  {
   "cell_type": "markdown",
   "metadata": {},
   "source": [
    "run_simulation returns the complete polymorphism information contained in the data which can be compactly written as the joint site frequency spectrum (jSFS) of each locus, i.e. the blockwise site frequency spectrum bSFS (sensu Lohse et al 2016). Since msprime simulates rooted tree.sequences, the columns and rows of the unfolded jSFS correspond to the frequency of derived mutations in each population and the entries of the jSFS are simply mutation counts. E.g. for the first locus we have:"
   ]
  },
  {
   "cell_type": "code",
   "execution_count": 102,
   "metadata": {},
   "outputs": [
    {
     "name": "stdout",
     "output_type": "stream",
     "text": [
      "jSFS counts, first locus =\n",
      "[[  0.   0.   0.]\n",
      " [ 13.   0.  10.]\n",
      " [  0.   0.   0.]]\n"
     ]
    }
   ],
   "source": [
    "print(\"jSFS counts, first locus =\")\n",
    "print(truth[0])"
   ]
  },
  {
   "cell_type": "markdown",
   "metadata": {},
   "source": [
    "One could base inference on the bSFS (Beeravolou et al), but we will for the sake of simplicity use a simpler (and lossy) summary of the data: the average jSFS across loci. Note that we still represent the jSFS as a set of average mutation counts. For analyses based on SNPs it may be convient to normalize the jSFS by the total number of mutations:"
   ]
  },
  {
   "cell_type": "code",
   "execution_count": 158,
   "metadata": {},
   "outputs": [
    {
     "name": "stdout",
     "output_type": "stream",
     "text": [
      "mean jSFS\n",
      "[[ 0.          0.2796158   0.12913554]\n",
      " [ 0.24759872  0.09711846  0.05122732]\n",
      " [ 0.11953042  0.07577375  0.        ]]\n"
     ]
    }
   ],
   "source": [
    "truth_mean = np.mean(truth, axis=0)\n",
    "print(\"mean jSFS\")\n",
    "print(truth_mean/sum(sum(truth_mean)))"
   ]
  },
  {
   "cell_type": "markdown",
   "metadata": {},
   "source": [
    "To illustrate a simple ABC inference scheme, we will focus on a single parameter of interest, the migration rate m and assume that the scaled mutation rate theta=Ne mu is known.\n",
    "\n",
    "We use the function run_simulation to simulate 10,000 datasets, each consisting of 100 loci and seeded by a random draw from the prior distribution of m. Below we assume an exponential distribution, a common choice of prior (ref Hey & Wakeley 2002). \n",
    "\n",
    "ABC measures the fit of data simulated under the prior to the observed data via a vector of summary statistics.  We will use the jSFS (averaged across the 100 loci) directly as a summary statistic. However, we note that higher level population genetic summaries such as pairwise measures of divergence and diversity, F_st or D (ref) which are often used in ABC inference are further (lossy) summaries of the jSFS."
   ]
  },
  {
   "cell_type": "code",
   "execution_count": 154,
   "metadata": {},
   "outputs": [],
   "source": [
    "num_replicates = 10000\n",
    "prior_m = np.random.exponential(0.1, num_replicates)\n",
    "data_means = np.zeros((num_replicates, nsamp+1, nsamp+1))\n",
    "for j in range(num_replicates):\n",
    "    data = run_simulation(prior_m[j], num_loci=100)\n",
    "    data_means[j] = np.mean(data, axis=0)"
   ]
  },
  {
   "cell_type": "markdown",
   "metadata": {},
   "source": [
    "We compute the Euclidean distance between the observed jSFS and that of each simulated dataset:"
   ]
  },
  {
   "cell_type": "code",
   "execution_count": 156,
   "metadata": {},
   "outputs": [],
   "source": [
    "distances = np.zeros(num_replicates)\n",
    "for j in range(num_replicates):\n",
    "    distances[j] = np.sqrt(np.sum((data_means[j] - truth_mean)**2))"
   ]
  },
  {
   "cell_type": "markdown",
   "metadata": {},
   "source": [
    "In its simplest form, ABC approximates the posterior by sampling from the simulated data via an acceptance threshold: e.g. we can approximate the posterior distribution of m from the 5% of simulation replicates that most closely match the jSFS of the observed data. The posterior distribution (shown in orange) is centred around the truth m=0.3. (need to add axes labels for these x=m, y=posterior density)"
   ]
  },
  {
   "cell_type": "code",
   "execution_count": 160,
   "metadata": {},
   "outputs": [
    {
     "data": {
      "text/plain": [
       "<matplotlib.axes._subplots.AxesSubplot at 0x7f119ef69be0>"
      ]
     },
     "execution_count": 160,
     "metadata": {},
     "output_type": "execute_result"
    },
    {
     "data": {
      "image/png": "[encoded data removed]",
      "text/plain": [
       "<matplotlib.figure.Figure at 0x7f11b1b00710>"
      ]
     },
     "metadata": {},
     "output_type": "display_data"
    }
   ],
   "source": [
    "cutoff = np.percentile(distances, 5)\n",
    "keep = np.where(distances < cutoff)\n",
    "sns.distplot(prior_m)\n",
    "sns.distplot(prior_m[keep])"
   ]
  },
  {
   "cell_type": "markdown",
   "metadata": {},
   "source": [
    "The mean and lower and upper 95% approximate posterior credibility intervals are:"
   ]
  },
  {
   "cell_type": "code",
   "execution_count": 161,
   "metadata": {},
   "outputs": [
    {
     "name": "stdout",
     "output_type": "stream",
     "text": [
      "[0.26722412419771685, 0.16097891232429667, 0.39703063563821261]\n"
     ]
    }
   ],
   "source": [
    "print([np.mean(prior_m[keep]),np.percentile(prior_m[keep],2.5),np.percentile(prior_m[keep],95.5)])"
   ]
  },
  {
   "cell_type": "markdown",
   "metadata": {},
   "source": [
    "## Cross-validation using pseudoobserved data sets"
   ]
  },
  {
   "cell_type": "markdown",
   "metadata": {},
   "source": [
    "A question that commonly arises in the context of ABC is how much power/information we can expect about a particular parameter. A straightforward cross-validation procedure consists of repeating the inference on pseudoobserved data sets (PODS) generated under a known truth. Since we can use re-use the same set of simulation replicates for inference, this is computationally efficient. Here we generate 100 PODS for m=0.3:"
   ]
  },
  {
   "cell_type": "code",
   "execution_count": 130,
   "metadata": {},
   "outputs": [],
   "source": [
    "num_pseudo_obs = 100 \n",
    "data_pseudo_obs = np.zeros((num_pseudo_obs, nsamp+1, nsamp+1))\n",
    "for j in range(num_pseudo_obs):\n",
    "    data = run_simulation(true_m, num_loci=100)\n",
    "    data_pseudo_obs[j] = np.mean(data, axis=0)"
   ]
  },
  {
   "cell_type": "markdown",
   "metadata": {},
   "source": [
    "We record the median posterior estimate of m for each dataset:"
   ]
  },
  {
   "cell_type": "code",
   "execution_count": 148,
   "metadata": {},
   "outputs": [],
   "source": [
    "mean_ests = np.zeros(num_pseudo_obs)\n",
    "for k in range(num_pseudo_obs):\n",
    "    distances = np.zeros(num_replicates)\n",
    "    for j in range(num_replicates):\n",
    "        distances[j] = np.sqrt(np.sum((data_means[j] - data_pseudo_obs[k])**2))\n",
    "    cutoff = np.percentile(distances, 5)\n",
    "    keep = np.where(distances < cutoff)\n",
    "    mean_ests[k] = np.mean(prior_m[keep])"
   ]
  },
  {
   "cell_type": "markdown",
   "metadata": {},
   "source": [
    "The mean m estimate across PODS is close to the truth; the SD is 0.04. +/- 2SD gives a slightly narrower 95% posterior credibility interval than we obtained for the fisrt replicate. "
   ]
  },
  {
   "cell_type": "code",
   "execution_count": 165,
   "metadata": {},
   "outputs": [
    {
     "name": "stdout",
     "output_type": "stream",
     "text": [
      "0.0402991886524\n",
      "[0.28126818375226004, 0.200669806447523, 0.3618665610569971]\n"
     ]
    },
    {
     "data": {
      "text/plain": [
       "<matplotlib.axes._subplots.AxesSubplot at 0x7f11b0978898>"
      ]
     },
     "execution_count": 165,
     "metadata": {},
     "output_type": "execute_result"
    },
    {
     "data": {
      "image/png": "[encoded data removed]",
      "text/plain": [
       "<matplotlib.figure.Figure at 0x7f119eea6b38>"
      ]
     },
     "metadata": {},
     "output_type": "display_data"
    }
   ],
   "source": [
    "meanmPODS=np.mean(mean_ests)\n",
    "SDmPODS=np.sqrt(np.var(mean_ests))\n",
    "print(SDmPODS)\n",
    "print([meanmPODS, meanmPODS - 2*SDmPODS, meanmPODS + 2*SDmPODS])\n",
    "sns.distplot(mean_ests)"
   ]
  },
  {
   "cell_type": "markdown",
   "metadata": {},
   "source": [
    "### To Do and thoughts"
   ]
  },
  {
   "cell_type": "markdown",
   "metadata": {},
   "source": [
    "1) A plot of power against different m values would be good. Perhaps a violin plot showing distributions of estimates (across 100 PODS)? \n",
    "\n",
    "2) We should probably say that m estimates are slightly downwardly biased. I think this is expected given the exponential prior. We would expect this bias to reduce with a uniform prior. Is this worth showing?\n",
    "\n",
    "3) Need to include axes labels on plots\n",
    "\n",
    "4) A more efficient implementation of ABC includes a local regression (sumstats against simulated parameter values) step. This is used to i) adjust parameter values and ii) detemine a weight for each replicate that passes the acceptance threshold. This would be simple to implement for a single sum stat but is a bit fiddly for sum stats vectors. I don't think it would add much to the example.\n",
    "\n",
    "I have implemented a simple weighting scheme: weights are proportional to Euclidian distance (normalised by the maximum distance in the accepted set). This has almost no effect in the toy example:"
   ]
  },
  {
   "cell_type": "code",
   "execution_count": 166,
   "metadata": {},
   "outputs": [
    {
     "data": {
      "text/plain": [
       "<matplotlib.axes._subplots.AxesSubplot at 0x7f11b0dbad30>"
      ]
     },
     "execution_count": 166,
     "metadata": {},
     "output_type": "execute_result"
    },
    {
     "data": {
      "image/png": "[encoded data removed]",
      "text/plain": [
       "<matplotlib.figure.Figure at 0x7f11b1ac90b8>"
      ]
     },
     "metadata": {},
     "output_type": "display_data"
    }
   ],
   "source": [
    "normdist=distances[keep]/max(distances[keep])\n",
    "sns.distplot(prior_m[keep])\n",
    "sns.distplot(prior_m[keep], hist_kws={'weights': normdist})"
   ]
  },
  {
   "cell_type": "code",
   "execution_count": null,
   "metadata": {},
   "outputs": [],
   "source": [
    "sns.regplot(prior_m[keep], normdist)\n",
    "print(data_mean)"
   ]
  }
 ],
 "metadata": {
  "kernelspec": {
   "display_name": "Python 3",
   "language": "python",
   "name": "python3"
  },
  "language_info": {
   "codemirror_mode": {
    "name": "ipython",
    "version": 3
   },
   "file_extension": ".py",
   "mimetype": "text/x-python",
   "name": "python",
   "nbconvert_exporter": "python",
   "pygments_lexer": "ipython3",
   "version": "3.6.2"
  }
 },
 "nbformat": 4,
 "nbformat_minor": 2
}
